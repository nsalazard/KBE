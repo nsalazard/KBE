{
 "cells": [
  {
   "cell_type": "markdown",
   "id": "7e403b36-57a1-401e-bf06-08cfe9b1f478",
   "metadata": {},
   "source": [
    "## Libraries"
   ]
  },
  {
   "cell_type": "code",
   "execution_count": 1,
   "id": "a7e24bb2-584b-4a33-988b-b4b8acadbdf6",
   "metadata": {},
   "outputs": [
    {
     "data": {
      "text/plain": [
       "⊗ (generic function with 1 method)"
      ]
     },
     "execution_count": 1,
     "metadata": {},
     "output_type": "execute_result"
    }
   ],
   "source": [
    "using KadanoffBaym, LinearAlgebra, BlockArrays\n",
    "using Bessels\n",
    "using PyPlot\n",
    "using Tullio\n",
    "⊗(A,B) = kron(A,B)"
   ]
  },
  {
   "cell_type": "markdown",
   "id": "7ee2a723-0ed3-4aa3-99e8-0b8aa6acd10e",
   "metadata": {},
   "source": [
    "## Parameters and predifined quantities"
   ]
  },
  {
   "cell_type": "code",
   "execution_count": 2,
   "id": "c7a8658e-71a2-4f04-a46e-8794f9a7f5e3",
   "metadata": {},
   "outputs": [],
   "source": [
    "hbar = 1.#0.658211928e0  \n",
    "### Pauli matrices\n",
    "σ_0 = Matrix{ComplexF64}([1. 0. ; 0 1])\n",
    "σ_x =  Matrix{ComplexF64}([0 1; 1 0])\n",
    "σ_y =  Matrix{ComplexF64}([0 -1im ; 1im 0 ])\n",
    "σ_z = Matrix{ComplexF64}([1 0. ; 0. -1]) ; "
   ]
  },
  {
   "cell_type": "code",
   "execution_count": 3,
   "id": "0fb0144d-309d-48fa-b0d6-e7a9fbda9615",
   "metadata": {},
   "outputs": [],
   "source": [
    "# Lattice size\n",
    "L = 2\n",
    "nσ = 2\n",
    "nx = L\n",
    "ny = 1\n",
    "γ = 1\n",
    "γso = 0\n",
    "j_sd = 0.1\n",
    "# Allocate the initial Green functions (time arguments at the end)\n",
    "GL = GreenFunction(zeros(ComplexF64, nx*nσ, nx*nσ, 1, 1), SkewHermitian)\n",
    "GG = GreenFunction(zeros(ComplexF64, nx*nσ, nx*nσ, 1, 1), SkewHermitian);\n",
    "#####Ht = GreenFunction(zeros(ComplexF64, nx*nσ, nx*nσ, 1, 1), SkewHermitian);\n",
    "# GL_d = GreenFunction(zeros(ComplexF64, L, L, 1, 1), SkewHermitian)\n",
    "# GG_d = GreenFunction(zeros(ComplexF64, L, L, 1, 1), SkewHermitian);"
   ]
  },
  {
   "cell_type": "code",
   "execution_count": 4,
   "id": "4c512726-9b10-4b44-b097-11dbe6bdca41",
   "metadata": {},
   "outputs": [],
   "source": [
    "I_a1b1 = Matrix{ComplexF64}(I, L, L)            # Identity on lattice space\n",
    "I_ab = Matrix{ComplexF64}(I, nσ*L, nσ*L)        # Identity on lattice ⊗ spin\n",
    "# --- Pauli matrices extended to the full Hilbert space ---\n",
    "σ_x1ab = kron(I_a1b1, σ_x)\n",
    "σ_x2ab = kron(I_a1b1, σ_y)\n",
    "σ_x3ab = kron(I_a1b1, σ_z)\n",
    "# --- Pauli matrices as a 3D array σ_abx[μ, i, j] ---\n",
    "σ_ijx = cat(σ_x1ab, σ_x2ab, σ_x3ab; dims=3) ;"
   ]
  },
  {
   "cell_type": "markdown",
   "id": "5455324f-0310-4d29-92a7-51ffd006e5da",
   "metadata": {},
   "source": [
    "### Auxiliary integrator"
   ]
  },
  {
   "cell_type": "code",
   "execution_count": 5,
   "id": "1f7ba3e0-853f-4870-a96e-bff27c8c30b5",
   "metadata": {},
   "outputs": [
    {
     "data": {
      "text/plain": [
       "integrate2 (generic function with 1 method)"
      ]
     },
     "execution_count": 5,
     "metadata": {},
     "output_type": "execute_result"
    }
   ],
   "source": [
    "function integrate0(t1,t2,A)\n",
    "    retval = 0.0 + 0.0im\n",
    "    dt = 0.01\n",
    "    ts = t2:dt:t1\n",
    "    A_vec = A.(ts)\n",
    "    @tullio retval = A_vec[α]\n",
    "    retval = retval*dt\n",
    "end\n",
    "# Auxiliary integrator for the first type of integral\n",
    "function integrate1(hs::Vector, t1, t2, A::GreenFunction, B::GreenFunction, C::GreenFunction; tmax=t1)\n",
    "    retval = zero(A[t1, t1])\n",
    "    @inbounds for k in 1:tmax\n",
    "        @views LinearAlgebra.mul!(retval, A[t1, k] - B[t1, k], C[k, t2], hs[k], 1.0)\n",
    "    end\n",
    "    return retval\n",
    "end\n",
    "# Auxiliary integrator for the second type of integral\n",
    "function integrate2(hs::Vector, t1, t2, A::GreenFunction, B::GreenFunction, C::GreenFunction; tmax=t2)\n",
    "    retval = zero(A[t1, t1])\n",
    "    @inbounds for k in 1:tmax\n",
    "        @views LinearAlgebra.mul!(retval, A[t1, k], B[k, t2] - C[k, t2], hs[k], 1.0)\n",
    "    end\n",
    "    return retval\n",
    "end"
   ]
  },
  {
   "cell_type": "markdown",
   "id": "3d2609a4-5974-41e1-bc33-76c110153a9c",
   "metadata": {},
   "source": [
    "### Precesion "
   ]
  },
  {
   "cell_type": "code",
   "execution_count": 6,
   "id": "d647c08f-a6ef-47d0-bbdc-5b297e593a3c",
   "metadata": {},
   "outputs": [
    {
     "data": {
      "text/plain": [
       "update! (generic function with 1 method)"
      ]
     },
     "execution_count": 6,
     "metadata": {},
     "output_type": "execute_result"
    }
   ],
   "source": [
    "mutable struct PrecSpin\n",
    "    \"\"\" This mutable structure act like a class \n",
    "    in python, it defines an object with the \n",
    "    characteristics of a precessing spin\n",
    "    \"\"\"\n",
    "    i::Int64 #   \n",
    "    axis_phi::Float64 \n",
    "    axis_theta::Float64 \n",
    "    phi_zero::Float64 \n",
    "    theta_zero::Float64 \n",
    "    start_time::Float64 \n",
    "    T::Float64 \n",
    "    s::Vector{Float64} \n",
    "    ### Initial values of PrecSpin .\n",
    "    function PrecSpin(i=0,axis_phi=0.0,axis_theta=0.0,\n",
    "            phi_zero=0.0,theta_zero=0.0,start_time=0.0\n",
    "            ,T=1.,s=[0.,0.,1.])\n",
    "        new(i,axis_phi,axis_theta,phi_zero,theta_zero,start_time,T,s)\n",
    "    end\n",
    "end\n",
    "\n",
    "function update!(this::PrecSpin, time  )\n",
    "    \"\"\" This function  update the magnetic moment associated\n",
    "    to the mutable structure PrecSpin \n",
    "    \n",
    "    parameters:\n",
    "    ----------\n",
    "    this: mutable structure \n",
    "    contain an structure with the characteristics of a spin \n",
    "    time: Float64\n",
    "    time where the spin is evaluated \n",
    "    \n",
    "    returns:\n",
    "    -------\n",
    "    Update the strucure associated to a  precessing spin \n",
    "    \"\"\"\n",
    "    if time >= this.start_time\n",
    "        t = time - this.start_time\n",
    "    else\n",
    "        t = 0.0\n",
    "    end\n",
    "    omega = 2*pi / this.T\n",
    "    otheta = pi*this.theta_zero/180.\n",
    "    ophi = pi*this.phi_zero /180. ##########\n",
    "    # compute spin position for precession along the z-axis\n",
    "    sz = cos(otheta)\n",
    "    sx = cos(ophi + omega*t)*sin(otheta)\n",
    "    sy = sin(ophi + omega*t)*sin(otheta)\n",
    "    # Now rotate along y \n",
    "    atheta = pi * this.axis_theta/ 180.\n",
    "    aphi = pi * this.axis_phi / 180. \n",
    "    sx1 =  sx*cos(atheta) - sz*sin(atheta)\n",
    "    sy1 =  sy\n",
    "    sz1 =  sx*sin(atheta) + sz*cos(atheta)\n",
    "    # No rotate along the z \n",
    "    sx2 =  sx1*cos(aphi) + sy1*sin(aphi)\n",
    "    sy2 = -sx1*sin(aphi) + sy1*cos(aphi)\n",
    "    sz2 =  sz1\n",
    "    this.s .= [sx2, sy2, sz2]\n",
    "    nothing\n",
    "end"
   ]
  },
  {
   "cell_type": "markdown",
   "id": "bb3507a1-b1c8-4784-aa58-ca0fd200bf1a",
   "metadata": {},
   "source": [
    "## Self Energy "
   ]
  },
  {
   "cell_type": "code",
   "execution_count": 7,
   "id": "6d14900e-932a-4524-8381-c29ab67cbe46",
   "metadata": {},
   "outputs": [],
   "source": [
    "#### Dynamical variables \n",
    "Base.@kwdef struct FermiHubbardData2B{T}\n",
    "    GL::T\n",
    "    GG::T\n",
    "    ΣL::T # zero(GL)\n",
    "    ΣG::T # zero(GG)\n",
    "    ###Ht::T\n",
    "end"
   ]
  },
  {
   "cell_type": "code",
   "execution_count": 8,
   "id": "38f60a75-00c1-4834-ad2a-f8638df5451f",
   "metadata": {},
   "outputs": [
    {
     "data": {
      "text/plain": [
       "SelfG (generic function with 1 method)"
      ]
     },
     "execution_count": 8,
     "metadata": {},
     "output_type": "execute_result"
    }
   ],
   "source": [
    "#### Calculation of the self-energy \n",
    "function selfenergy(ϵ;γ=1,γc=1.)# thop = thop, t_ls = 1.) \n",
    "    ### Note that this configuration for the self energy can be modified later\n",
    "    #thop = global_var.thop\n",
    "    Δ = 4 * γ^2 - ϵ^2\n",
    "    if real(Δ) > 0\n",
    "        Σ = ϵ - im * sqrt(Δ)\n",
    "    else\n",
    "        if real(ϵ) > 0\n",
    "            sgn = 1\n",
    "        else\n",
    "            sgn = -1\n",
    "        end\n",
    "        Σ = ϵ - sgn * sqrt(-Δ)\n",
    "    end\n",
    "    Σ = Σ* (γc^2 / (2*γ^2)) #/2\n",
    "    return Σ\n",
    "end\n",
    "function Gamma_ϵ(ϵ;γ=1,γc=1.)#\n",
    "    -2*imag(selfenergy(ϵ;γ=γ,γc=γc))\n",
    "end\n",
    "#using Bessels\n",
    "function Gamma_t(t;γ=1,γc=1.)#\n",
    "    γc^2*(besselj(0, 2*γ*t)+ besselj(2, 2*γ*t))#*exp(1im*μ*t)\n",
    "    #-2*imag(selfenergy(ϵ;γ=γ,γc=γc))\n",
    "end\n",
    "function Gamma2_t(t;γ=1,γc=1.)#\n",
    "    retval = 0.0\n",
    "    dϵ = 0.01\n",
    "    ϵs = -2γ:dϵ:2γ\n",
    "    Gamma = Gamma_ϵ.(ϵs;γ,γc)\n",
    "    e = exp.(-1im*ϵs*t)\n",
    "    @tullio retval = Gamma[α]*e[α]\n",
    "    retval = retval*dϵ/2pi#/(length(ϵs))\n",
    "end\n",
    "function fermi_mu(ϵ; μ=0.0, Temp=300)\n",
    "    KB = 8.6173324e-5           ### Bolzmann factor\n",
    "   1/(1. + exp((ϵ-μ)/(KB*Temp)  ))   \n",
    "end\n",
    "function SelfL(t;γ=1,γc=1.)\n",
    "    retval = 0.0+ 0.0im\n",
    "    dϵ = 0.01\n",
    "    ϵs = -2γ:dϵ:2γ\n",
    "    Gamma = Gamma_ϵ.(ϵs;γ,γc)\n",
    "    e = exp.(-1im*ϵs*t)\n",
    "    f = fermi_mu.(ϵs)\n",
    "    @tullio retval = Gamma[α]*e[α]*f[α]\n",
    "    retval = 1im*retval*dϵ/2pi\n",
    "end\n",
    "function SelfG(t;γ=1,γc=1.)\n",
    "    retval = 0.0 + 0.0im\n",
    "    dϵ = 0.01\n",
    "    ϵs = -2γ:dϵ:2γ\n",
    "    Gamma = Gamma_ϵ.(ϵs;γ,γc)\n",
    "    e = exp.(-1im*ϵs*t)\n",
    "    f = -fermi_mu.(ϵs) .+ 1\n",
    "    @tullio retval = Gamma[α]*e[α]*f[α]\n",
    "    retval = -1im*retval*dϵ/2pi\n",
    "end"
   ]
  },
  {
   "cell_type": "code",
   "execution_count": 10,
   "id": "cf68a18f-36d8-4fe2-ae3d-cb8fab03c19f",
   "metadata": {},
   "outputs": [],
   "source": [
    "# Gamma2_t(0.1)\n",
    "# 1/(2*pi*0.1)\n",
    "# ϵs = -4:0.1:4\n",
    "# # length(ϵs)\n",
    "# ts= 0.1:0.1:50\n",
    "# plot(ts,Gamma_t.(ts,γc=0.1,γ=0.01))\n",
    "# plot(ts,Gamma2_t.(ts,γc=0.1,γ=0.01),ls=\"--\")\n",
    "# plot(ts,SelfL.(ts))\n",
    "# plt.ylim(-0.1,0.1)\n",
    "\n",
    "# es=-4:0.1:4\n",
    "# # # # plot(es,real(selfenergy.(es)))\n",
    "# # # # plot(es,imag(selfenergy.(es)))\n",
    "# plot(es,Gamma_ϵ.(es))\n",
    "# plt.ylim(2-0.5,2+0.5)\n",
    "# plt.axhline(2,color=\"gray\",ls=\"--\")\n",
    "# plt.axvline(2pi/5,color=\"orange\")\n",
    "# plt.axvline(-2pi/5,color=\"orange\")\n",
    "\n",
    "\n",
    "# plt.axvline(-2pi/50,color=\"orange\")\n",
    "# plt.axvline(2pi/50,color=\"orange\")\n",
    "# plt.xlim(-1.5,1.5)\n",
    "# # SelfG(0)\n",
    "#2pi/5"
   ]
  },
  {
   "cell_type": "code",
   "execution_count": 9,
   "id": "5ab7f6d2-0280-4298-8acd-91da1cbf1fa3",
   "metadata": {},
   "outputs": [
    {
     "data": {
      "text/plain": [
       "self_Lead! (generic function with 1 method)"
      ]
     },
     "execution_count": 9,
     "metadata": {},
     "output_type": "execute_result"
    }
   ],
   "source": [
    "# Callback function for the self-energies #### This function includes the modifcation in time of the general equations of motion \n",
    "\n",
    "function self_Lead!(model,data,times,_,_,t,t′)\n",
    "    # Unpack data and model \n",
    "    (;GL,GG,ΣL,ΣG) = data\n",
    "    (;hss, Δ1, Δ2) = model\n",
    "    ∫ds(A) = integrate0(times[t],times[t′], A  ) \n",
    "    # Resize self energies \n",
    "    if (n = size(GL,3)) > size(ΣL,3)\n",
    "        resize!(ΣL, n)\n",
    "        resize!(ΣG, n)\n",
    "        #resize!(Ht, n)\n",
    "    end\n",
    "    D2 = Matrix{ComplexF64}(I, nσ, nσ)\n",
    "    ### Time dependece of the leads \n",
    "    ϕ1_t = ∫ds(Δ1)#Δ1(times[t], times[t′] )\n",
    "    ϕ2_t = ∫ds(Δ2)\n",
    "    #Δ2_t = Δ2(times[t], times[t′] )\n",
    "    ### Setting the component of the left self-energy\n",
    "    self = SelfL(times[t] - times[t′];γ=1.0,γc=1.0)\n",
    "    selfL0 = zeros(ComplexF64,L*nσ,L*nσ)\n",
    "    selfL0[1:nσ,1:nσ] = self*exp(-1im*ϕ1_t)*D2#*diagm(ones(nσ))### Left lead selfenergy \n",
    "    selfL0[end-nσ+1:end,end-nσ+1:end] = self*exp(-1im*ϕ2_t)*D2#*diagm(ones(nσ)) ### Right lead selfenergy \n",
    "    ### Setting the component of the right self-energy\n",
    "    self = SelfG(times[t] - times[t′];γ=1.0,γc=1.0)\n",
    "    selfG0 = zeros(ComplexF64,L*nσ,L*nσ)\n",
    "    selfG0[1:nσ,1:nσ] = self*exp(-1im*ϕ1_t)*D2#diagm(ones(nσ)) ### Left lead selfenergy \n",
    "    selfG0[end-nσ+1:end,end-nσ+1:end] = self*exp(-1im*ϕ2_t)*D2#*diagm(ones(nσ)) ### Right lead selfenergy \n",
    "    ### Setting the time dependence of the hamiltonian \n",
    "    #########-------------------------------------------------------------------------------############\n",
    "    ##Ht[t,t′] =  hss(times[t])\n",
    "    #hs_t(times[t])\n",
    "    ### Define the self energies \n",
    "    ΣL[t, t′] = selfL0#exp()\n",
    "    ΣG[t, t′] = selfG0\n",
    "end"
   ]
  },
  {
   "cell_type": "code",
   "execution_count": 10,
   "id": "2c290c95-6070-4a9e-a5eb-c7f5478879d8",
   "metadata": {},
   "outputs": [
    {
     "data": {
      "text/plain": [
       "hs_t (generic function with 1 method)"
      ]
     },
     "execution_count": 10,
     "metadata": {},
     "output_type": "execute_result"
    }
   ],
   "source": [
    "#SelfL(0.0;γ=1,γc=1.)\n",
    "\n",
    "function hs_t(t)\n",
    "    theta_1, phi_1 = 20.0 , 0.0#45.0, 0.0 \n",
    "    period = 5 \n",
    "    pr_spins = [PrecSpin(i) for i in 1:1:L  ]        ### array with mutables object of preccesin spins\n",
    "    for jj in 1: L\n",
    "        pr_spins[jj].i = jj ## lattice site \n",
    "        pr_spins[jj].theta_zero = theta_1\n",
    "        pr_spins[jj].phi_zero = phi_1\n",
    "        pr_spins[jj].T = period \n",
    "        #println(pr_spins[jj].i)\n",
    "    end\n",
    "    vm_i1x = zeros(Float64,nx*ny,3)\n",
    "    for j in 1:1:nx #3:1:5#n_precessing#length(pr_spins)\n",
    "        #println(j)\n",
    "        #dv.vm_i1x[2,:] .= zeros(Float64,3)\n",
    "        update!(pr_spins[j], t )\n",
    "        vm_i1x[pr_spins[j].i,:] .= pr_spins[j].s\n",
    "    end   \n",
    "    # println(vm_i1x)\n",
    "    # println(vm_i1x[1,1]^2+vm_i1x[1,2]^2+vm_i1x[1,3]^2)\n",
    "\n",
    "    #########-------------------------------------------------------------------------------############\n",
    "    ### Define the Hamiltonian \n",
    "    hs(vm_i1x;nx=2,ny=1,γ=1.0,γso=0.0,j_sd=0.1)\n",
    "end"
   ]
  },
  {
   "cell_type": "code",
   "execution_count": 15,
   "id": "42133dc0-a705-47ab-a0ed-c4ac91f7ade3",
   "metadata": {},
   "outputs": [],
   "source": [
    "#plt.plot(ts,sx.(ts))\n",
    "# #plt.plot(ts,sy.(ts))\n",
    "# plt.plot(ts,sz.(ts))\n",
    "# plt.axhline(0.966 ,ls =\"--\",color=\"yellow\")\n",
    "# #plt.axhline(0.26)"
   ]
  },
  {
   "cell_type": "code",
   "execution_count": 16,
   "id": "27e003ec-768a-4c66-9c45-f86f1a11fcaf",
   "metadata": {},
   "outputs": [],
   "source": [
    "# Gamma2_t(0.1)\n",
    "# 1/(2*pi*0.1)\n",
    "# # ϵs = -4:0.1:4\n",
    "# # length(ϵs)\n",
    "# ts= 0.1:0.1:30\n",
    "# # # plot(ts,Gamma_t.(ts))\n",
    "# # # plot(ts,Gamma2_t.(ts)/2)\n",
    "# plot(ts,SelfL.(ts))\n",
    "# plt.ylim(-0.1,0.1)\n",
    "\n",
    "# # es=-4:0.1:4\n",
    "# # # plot(es,real(selfenergy.(es)))\n",
    "# # # plot(es,imag(selfenergy.(es)))\n",
    "# # plot(es,Gamma_ϵ.(es))\n",
    "# SelfG(0)"
   ]
  },
  {
   "cell_type": "markdown",
   "id": "0babe55d-ca51-4ff5-abf9-219755862a04",
   "metadata": {},
   "source": [
    "## Hamiltonian "
   ]
  },
  {
   "cell_type": "code",
   "execution_count": 11,
   "id": "fd22797d-cc1f-4a07-b1f6-10bdc85d52ba",
   "metadata": {},
   "outputs": [
    {
     "data": {
      "text/plain": [
       "hs (generic function with 1 method)"
      ]
     },
     "execution_count": 11,
     "metadata": {},
     "output_type": "execute_result"
    }
   ],
   "source": [
    "############# Building Hamiltonian\n",
    "#### Create electronic Hamiltonian \n",
    "function block_h(;ny=1,γ=1,γso=0.0)\n",
    "    #γ::Float64,γso::ComplexF64,Bz::Float64,ny::Int)\n",
    "    \"Creates the building blocks for a general nx x ny square lattice \"\n",
    "    dim = ny*2 # We include the spin degree of freedom \n",
    "    ######\n",
    "    H0 = zeros(ComplexF64,dim,dim)\n",
    "    T  = zeros(ComplexF64,dim,dim)\n",
    "    One_y =  Matrix{ComplexF64}(I, ny, ny)\n",
    "    #Diagonal(ones(ny))\n",
    "    ######\n",
    "    Ty = diagm(-1 =>  ones(ComplexF64,ny-1))\n",
    "    T0 = Ty⊗(-γ*σ_0 - 1im*γso*σ_x)\n",
    "    H0 .= T0 + T0' #-Bz*kron(One_y, σ_z)\n",
    "    ######\n",
    "    T .= One_y⊗(-γ*σ_0 + γso*1im*σ_y)\n",
    "    return H0, T\n",
    "end\n",
    "\n",
    "function hs(vm_i1x::Array{Float64,2};nx=nx,ny=1,γ=1,γso=0.0,j_sd=0.1)\n",
    "    \"This function build the central hamiltonian wwith two band\"\n",
    "    #γ::Float64,γso::ComplexF64,Bz::Float64,nx::Int,ny::Int)\n",
    "    dim = nx*ny*2 #*2\n",
    "    zero = zeros(ComplexF64,nx,nx)\n",
    "    HC = zeros(ComplexF64,dim,dim)\n",
    "    One_x =  Matrix{ComplexF64}(I, nx, nx)\n",
    "    #D2 = Matrix{ComplexF64}(I, nσ, nσ)  # más limpio\n",
    "    #Diagonal(ones(nx))\n",
    "    H0,T = block_h(;ny,γ,γso)\n",
    "    Tx = diagm( -1 =>  ones(ComplexF64,nx-1))⊗T \n",
    "    HC = (One_x⊗H0) +  Tx + Tx'\n",
    "    ### Local moments\n",
    "    for i in range(1,nx) \n",
    "        zero[i,i] = 1.0\n",
    "        HC += -j_sd*zero⊗(vm_i1x[i,1]*σ_x\n",
    "                    +vm_i1x[i,2]*σ_y\n",
    "                    +vm_i1x[i,3]*σ_z)\n",
    "        zero[i,i] = 0.0\n",
    "    end\n",
    "    return HC\n",
    "end\n"
   ]
  },
  {
   "cell_type": "code",
   "execution_count": 12,
   "id": "babe0324-f8c3-4dc7-8dd0-9301297dbed1",
   "metadata": {},
   "outputs": [],
   "source": [
    "#### Auxiliary structure with the parameters of the model \n",
    "Base.@kwdef struct FermiOpenModel{T1,T2,T3}\n",
    "    # interaction strength\n",
    "    # Time dependence of the self energies \n",
    "    Δ1::T1\n",
    "    Δ2::T2\n",
    "    #U::T\n",
    "    nx = nx\n",
    "    ny = ny\n",
    "    nσ = nσ\n",
    "    γ = γ\n",
    "    γso =  γso\n",
    "    j_sd = j_sd\n",
    "    # Initial configuration of the classical vectors \n",
    "    #vm_i1x = vm_i1x#zeros(Float64,  nx, 3)\n",
    "    #vm_i1x = zeros(Float64,  L, 3);\n",
    "    # Hamiltonian of the system \n",
    "    hss::T3 \n",
    "    #hs(vm_i1x;nx,ny,γ,γso,j_sd)\n",
    "    #H_u = h\n",
    "    #H_d = h\n",
    "end\n",
    "\n",
    "#model.Δ2"
   ]
  },
  {
   "cell_type": "markdown",
   "id": "cc0b5ab8-00b3-4754-930c-e9213d20b472",
   "metadata": {},
   "source": [
    "## Initial conditions "
   ]
  },
  {
   "cell_type": "code",
   "execution_count": 20,
   "id": "5424dad2-b016-404c-9166-13049394b116",
   "metadata": {},
   "outputs": [],
   "source": [
    "### Leviton \n",
    "# ts = 0.0:0.1:200\n",
    "# τ = 6\n",
    "# t0 = 80\n",
    "# A = 0.5\n",
    "# lev(t;t0 = t0,τ = τ) = 2τ/((t-t0)^2+τ^2)\n",
    "# gauss(t;A=A,t0=t0,τ=τ)=A*exp(-(t-t0)^2/(2*τ^2))\n",
    "# plt.plot(ts,lev.(ts))\n",
    "# plt.plot(ts,gauss.(ts))\n",
    "#model.hs"
   ]
  },
  {
   "cell_type": "code",
   "execution_count": 21,
   "id": "42c90441-d33b-4a25-b351-0e3b5c2aff46",
   "metadata": {},
   "outputs": [],
   "source": [
    "#Δ1 = t1-> lev(t1;t0 = t0,τ = τ)"
   ]
  },
  {
   "cell_type": "code",
   "execution_count": 13,
   "id": "e241a158-6243-41d7-9f9c-a3e4ec3a8d99",
   "metadata": {
    "scrolled": true
   },
   "outputs": [],
   "source": [
    "# Initial conditions\n",
    "# τ = 1.0#6\n",
    "# t0 = 50\n",
    "# A = 0.5\n",
    "# Relatively small interaction parameter\n",
    "U₀ = 0.0\n",
    "U₁ = 0.0 #0.05\n",
    "#model = FermiOpenModel(Δ1 = t1-> lev(t1;t0 = t0,τ = τ) ,Δ2 = t2-> U₁)\n",
    "model = FermiOpenModel(Δ1 = t1-> U₀ ,Δ2 = t2-> U₁,hss = t1->hs_t(t1))\n",
    "N = zeros(L*nσ)\n",
    "vm_i1x = zeros(Float64,  L, 3)\n",
    "# N_d = zeros(L)\n",
    "# #######\n",
    "N[1:4] = 0.0 .* [1, 1, 1, 1]\n",
    "# N_d[1:4] = 0.1 .* [1, 1, 1, 1]\n",
    "# #######\n",
    "# N_u[5:8] = 0.0 .* [1, 1, 1, 1]\n",
    "# N_d[5:8] = 0.0 .* [1, 1, 1, 1]\n",
    "# #######\n",
    "GL[1, 1] = 1.0im * diagm(N)\n",
    "GG[1, 1] = -1.0im * (I - diagm(N)) ;\n",
    "ΣL = zero(GL)\n",
    "ΣG = zero(GG)\n",
    "Dig = Matrix{ComplexF64}(I, L*nσ, L*nσ)\n",
    "ΣL[1,1] = SelfL(0;γ=1.0,γc=1.0)*Dig#*diagm(ones(L*nσ))\n",
    "ΣG[1,1] = SelfG(0;γ=1.0,γc=1.0)*Dig#*diagm(ones(L*nσ))\n",
    "###Ht[1,1] = hs(vm_i1x;nx,ny,γ,γso,j_sd)\n",
    "data = FermiHubbardData2B(GL=GL, GG=GG, ΣL=ΣL, ΣG=ΣG);#,Ht=Ht) ;\n",
    "#Ht[1,1]"
   ]
  },
  {
   "cell_type": "code",
   "execution_count": 23,
   "id": "0e912364-1503-4967-b77c-5f23ebd4fcf1",
   "metadata": {},
   "outputs": [],
   "source": [
    "#ΣL[1,1]\n",
    "\n",
    "#GG[1, 1] +GL[1, 1] \n",
    "#ΣL[1,1]\n",
    "\n",
    "# SelfL(0;γ=1.0,γc=0.0)\n",
    "# ΣL[2,2]\n",
    "#ΣL[1,2]"
   ]
  },
  {
   "cell_type": "code",
   "execution_count": 24,
   "id": "d7380b7a-6026-4258-b7a2-8c99f21f41d9",
   "metadata": {},
   "outputs": [],
   "source": [
    "#ΣG[2,1]'"
   ]
  },
  {
   "cell_type": "code",
   "execution_count": 25,
   "id": "1126bf03-e410-4d44-b156-b0423ea2e3d4",
   "metadata": {},
   "outputs": [],
   "source": [
    "#ΣL[2,200]+ΣL[200,2]'"
   ]
  },
  {
   "cell_type": "code",
   "execution_count": 26,
   "id": "329a1c8f-11ab-407e-bb92-62a4e631ade7",
   "metadata": {},
   "outputs": [],
   "source": [
    "#GG[1, 1] -GL[1, 1] \n",
    "#ΣG[2,200]+ΣG[200,2]'"
   ]
  },
  {
   "cell_type": "markdown",
   "id": "1de5c051-8bd7-4739-9055-b6eef6f87961",
   "metadata": {},
   "source": [
    "## EOMS"
   ]
  },
  {
   "cell_type": "code",
   "execution_count": 14,
   "id": "413afe2d-295f-4beb-aebc-e35c4d1f6940",
   "metadata": {},
   "outputs": [
    {
     "data": {
      "text/plain": [
       "fd! (generic function with 1 method)"
      ]
     },
     "execution_count": 14,
     "metadata": {},
     "output_type": "execute_result"
    }
   ],
   "source": [
    "# Right-hand side for the \"vertical\" evolution\n",
    "function fv!(model, data, out, times, h1, h2, t, t′)\n",
    "    #### NOTE THAT ANY EXTERNAL TIME DEPENDENCE OG THE FUNCTIONS\n",
    "    #### SHOULD BE INCLUDED IN AN EXTERNAL CALLBACK FUNCTIONS \n",
    "    # Unpack data and model\n",
    "    (; GL, GG, ΣL, ΣG) = data\n",
    "    (; hss, Δ1, Δ2) = model ### How to modify the Hamiltonian to include the time dependence \n",
    "    # Real-time collision integrals\n",
    "    ∫dt1(A, B, C) = integrate1(h1, t, t′, A, B, C)\n",
    "    ∫dt2(A, B, C) = integrate2(h2, t, t′, A, B, C)\n",
    "    #println( Ht[t,t])\n",
    "    H = hss(times[t])\n",
    "    # Equations of motion\n",
    "    out[1] = -1.0im * ( H* GL[t, t′] +\n",
    "        ∫dt1(ΣG, ΣL, GL) + ∫dt2(ΣL, GL, GG)) #### For G<\n",
    "    out[2] = -1.0im * (H* GG[t, t′] +\n",
    "        ∫dt1(ΣG, ΣL, GG) + ∫dt2(ΣG, GL, GG)) #### For G>\n",
    "    return out\n",
    "end\n",
    "function fd!(model, data, out, times, h1, h2, t, t′)\n",
    "    fv!(model, data, out, times, h1, h2, t, t)\n",
    "    out[1] .-= out[1]'\n",
    "    out[2] .-= out[2]'\n",
    "end\n",
    "\n",
    "# Equations of motion\n",
    "# out[1] = -1.0im * ((H_u + ΣHF_u(t, t′)) * GL_u[t, t′] + \n",
    "#         ∫dt1(ΣG_u, ΣL_u, GL_u) + ∫dt2(ΣL_u, GL_u, GG_u)\n",
    "#     )\n",
    "\n",
    "# out[2] = -1.0im * ((H_u + ΣHF_u(t, t′)) * GG_u[t, t′] + \n",
    "#         ∫dt1(ΣG_u, ΣL_u, GG_u) + ∫dt2(ΣG_u, GL_u, GG_u)\n",
    "#     )\n",
    "\n",
    "# out[3] = -1.0im * ((H_d + ΣHF_d(t, t′)) * GL_d[t, t′] + \n",
    "#         ∫dt1(ΣG_d, ΣL_d, GL_d) + ∫dt2(ΣL_d, GL_d, GG_d)\n",
    "#     )\n",
    "\n",
    "# out[4] = -1.0im * ((H_d + ΣHF_d(t, t′)) * GG_d[t, t′] +\n",
    "#         ∫dt1(ΣG_d, ΣL_d, GG_d) + ∫dt2(ΣG_d, GL_d, GG_d)\n",
    "#     )  \n",
    "#Right-hand side for the \"diagonal\" evolution\n",
    "\n",
    "# Right-hand side for the \"diagonal\" evolution\n",
    "# function fd!(model, data, out, times, h1, h2, t, t′)\n",
    "#     fv!(model, data, out, times, h1, h2, t, t)\n",
    "#     out .-= adjoint.(out)\n",
    "# end\n",
    "# function fd!(model, data, out, times, h1, h2, t, t′)\n",
    "#     fv!(model, data, out, times, h1, h2, t, t)\n",
    "#     out .-= adjoint.(out)\n",
    "# end"
   ]
  },
  {
   "cell_type": "code",
   "execution_count": 28,
   "id": "975dd31a-4283-4246-8665-7f17fb6166f8",
   "metadata": {},
   "outputs": [],
   "source": [
    "# tmax=32\n",
    "# U₀=5\n",
    "# U = t -> -U₀ * [(-1)^k * (1 + exp(-10(t - 2k)))^(-1) for k in 1:tmax-1]\n",
    "# tss=0.0:0.1:300\n",
    "# plt.plot(U.(tss))\n",
    "\n",
    "# U.(tss)\n",
    "# H1 = model.hss(0.123)\n",
    "# H2 = model.hss(3.21)\n",
    "# @assert H1 ≈ H1'  \"H(t) debe ser Hermítico\"\n",
    "# @assert H2 ≈ H2'  \"H(t) debe ser Hermítico\""
   ]
  },
  {
   "cell_type": "code",
   "execution_count": 29,
   "id": "c5d8ad68-97d9-4102-a787-b60cad57c132",
   "metadata": {},
   "outputs": [],
   "source": [
    "# @show SelfL(0.0; γ=1.0, γc=0.3)   # ≈ 0.0 + 0.045im\n",
    "# @show SelfG(0.0; γ=1.0, γc=0.3)   # ≈ 0.0 - 0.045im\n"
   ]
  },
  {
   "cell_type": "markdown",
   "id": "8274d6c8-e41a-4a61-a157-3d8ed6cabbcd",
   "metadata": {},
   "source": [
    "## Evolution"
   ]
  },
  {
   "cell_type": "markdown",
   "id": "b844e67e-b476-4147-83ea-a94edfdba3a2",
   "metadata": {},
   "source": [
    "### Adaptative evolution"
   ]
  },
  {
   "cell_type": "code",
   "execution_count": 15,
   "id": "91581347-2096-4e94-ac1e-bdbf9d91edfa",
   "metadata": {
    "scrolled": true
   },
   "outputs": [
    {
     "name": "stdout",
     "output_type": "stream",
     "text": [
      "time : 0.0\n",
      "time : 1.0e-6\n",
      "time : 5.999999999999999e-6\n",
      "time : 2.14364338873047e-5\n",
      "time : 4.259561405624789e-5\n",
      "time : 0.00014839151490096382\n",
      "time : 0.0006773710191245435\n",
      "time : 0.003322268540242442\n",
      "time : 0.005702676309248551\n",
      "time : 0.007845043301354049\n",
      "time : 0.01855687826188154\n",
      "time : 0.04775031849800418\n",
      "time : 0.04775031849800418\n",
      "time : 0.0857738451149577\n",
      "time : 0.11999501907021587\n",
      "time : 0.1721364364305415\n",
      "time : 0.21906371205483455\n",
      "time : 0.2757632686558143\n",
      "time : 0.33989692093246626\n",
      "time : 0.39761720798145306\n",
      "time : 0.4679618034205315\n",
      "time : 0.5515196109464156\n",
      "time : 0.6267216377197112\n",
      "time : 0.7146444204169881\n",
      "time : 0.8121870176632323\n",
      "time : 0.8999753551848522\n",
      "time : 0.992873590256907\n",
      "time : 1.09221702540471\n",
      "time : 1.1944150358836332\n",
      "time : 1.2981375921081513\n",
      "time : 1.3979515697521454\n",
      "time : 1.4962722492758995\n",
      "time : 1.5986864702335675\n",
      "time : 1.6908592690954687\n",
      "time : 1.7868439682325976\n",
      "time : 1.8912850915315236\n",
      "time : 1.9965199811089993\n",
      "time : 2.0961022863545935\n",
      "time : 2.190728759537907\n",
      "time : 2.282162296570258\n",
      "time : 2.376641558496314\n",
      "time : 2.4731067302010317\n",
      "time : 2.5708671505822385\n",
      "time : 2.67037264386717\n",
      "time : 2.770488710597221\n",
      "time : 2.872626897838784\n",
      "time : 2.974871153054105\n",
      "time : 3.077166972986499\n",
      "time : 3.1799246580408043\n",
      "time : 3.2822019256878776\n",
      "time : 3.3850654947872876\n",
      "time : 3.4880607114580893\n",
      "time : 3.5913663256548825\n",
      "time : 3.695197185345735\n",
      "time : 3.799566233455584\n",
      "time : 3.9043761528276493\n",
      "time : 4.009780266448321\n",
      "time : 4.115485159443732\n",
      "time : 4.221125457209715\n",
      "time : 4.327351220925521\n",
      "time : 4.43292465290434\n",
      "time : 4.538952070256759\n",
      "time : 4.644755185917444\n",
      "time : 4.751263901239031\n",
      "time : 4.8578111379766735\n",
      "time : 4.964671961987285\n",
      "time : 5.0712969857432135\n",
      "time : 5.1778345902913445\n",
      "time : 5.283988915454687\n",
      "time : 5.390327105035352\n",
      "time : 5.496346923841369\n",
      "time : 5.6028547712514625\n",
      "time : 5.708925743936117\n",
      "time : 5.815317613808491\n",
      "time : 5.921123742079496\n",
      "time : 6.027082218663901\n",
      "time : 6.132369290702893\n",
      "time : 6.2379812597325\n",
      "time : 6.342972551356258\n",
      "time : 6.448283673578072\n",
      "time : 6.553087141776992\n",
      "time : 6.658088801857495\n",
      "time : 6.7625997284579284\n",
      "time : 6.867318963450593\n",
      "time : 6.971720927404008\n",
      "time : 7.076350537176233\n",
      "time : 7.180846471792993\n",
      "time : 7.285430454693737\n",
      "time : 7.389978449917518\n",
      "time : 7.494545095615012\n",
      "time : 7.599162150246531\n",
      "time : 7.703819860101837\n",
      "time : 7.808489940803744\n",
      "time : 7.9131975796392515\n",
      "time : 8.017735098842467\n",
      "time : 8.122194781384193\n",
      "time : 8.226430226564018\n",
      "time : 8.330425041066857\n",
      "time : 8.434063026938995\n",
      "time : 8.537054139834979\n",
      "time : 8.639206981945224\n",
      "time : 8.739956369197115\n",
      "time : 8.83906895009536\n",
      "time : 8.936052594980865\n",
      "time : 9.03074544747522\n",
      "time : 9.1229609279813\n",
      "time : 9.212687163126395\n",
      "time : 9.299964075765564\n",
      "time : 9.385494234217145\n",
      "time : 9.472204739559892\n",
      "time : 9.558993295128095\n",
      "time : 9.644924558045348\n",
      "time : 9.729718749761577\n",
      "time : 9.813723595802928\n",
      "time : 9.897355506475684\n",
      "time : 9.980802081865837\n",
      "time : 10.06406528141171\n",
      "time : 10.147176014359887\n",
      "time : 10.230175374907901\n",
      "time : 10.313059925976512\n",
      "time : 10.395781142685328\n",
      "time : 10.478310514358723\n",
      "time : 10.560655992899052\n",
      "time : 10.642835924540778\n",
      "time : 10.724872293657915\n",
      "time : 10.806791275663388\n",
      "time : 10.888622225429156\n",
      "time : 10.97039521472441\n",
      "time : 11.052137886989874\n",
      "time : 11.133875888228012\n",
      "time : 11.215631560668552\n",
      "time : 11.2974231577628\n",
      "time : 11.379261826951037\n",
      "time : 11.46115094690055\n",
      "time : 11.54308589387955\n",
      "time : 11.625055456095446\n",
      "time : 11.70704460663014\n",
      "time : 11.789038361157964\n",
      "time : 11.871024804179747\n",
      "time : 11.952997541182881\n",
      "time : 12.034957229569535\n",
      "time : 12.116912266941023\n",
      "time : 12.198877652707463\n",
      "time : 12.280873031993652\n",
      "time : 12.36292021525433\n",
      "time : 12.4450405033696\n",
      "time : 12.52725222401892\n",
      "time : 12.609568374905427\n",
      "time : 12.691994579993093\n",
      "time : 12.774528134355426\n",
      "time : 12.857158166318825\n",
      "time : 12.93986691056556\n",
      "time : 13.022632007662567\n",
      "time : 13.105429477877765\n",
      "time : 13.188236902139057\n",
      "time : 13.271036446241727\n",
      "time : 13.353816803802134\n",
      "time : 13.436574123455253\n",
      "time : 13.519312266482\n",
      "time : 13.602043699490023\n",
      "time : 13.684797196397342\n",
      "time : 13.767597698672173\n",
      "time : 13.85046115630853\n",
      "time : 13.933394079748743\n",
      "time : 14.016394697855011\n",
      "time : 14.099454611920681\n",
      "time : 14.182560211571388\n",
      "time : 14.265694447311601\n",
      "time : 14.348838674555218\n",
      "time : 14.43197455820224\n",
      "time : 14.51508602411486\n",
      "time : 14.598160633612268\n",
      "time : 14.681190594800892\n",
      "time : 14.764173136174831\n",
      "time : 14.847110084006017\n",
      "time : 14.930006906426032\n",
      "time : 15.012871316034484\n",
      "time : 15.09571129003298\n",
      "time : 15.178533439135563\n",
      "time : 15.261341753296456\n",
      "time : 15.344136894502235\n",
      "time : 15.426916081115293\n",
      "time : 15.509673585133823\n",
      "time : 15.592401741568958\n",
      "time : 15.675092337351211\n",
      "time : 15.757738347408667\n",
      "time : 15.840334840485927\n",
      "time : 15.922879861044699\n",
      "time : 16.005375253074515\n",
      "time : 16.087826348010154\n",
      "time : 16.170241245900375\n",
      "time : 16.252629651332718\n",
      "time : 16.335001644769243\n",
      "time : 16.41736660658379\n",
      "time : 16.49973258502381\n",
      "time : 16.58210521704212\n",
      "time : 16.66448727472419\n",
      "time : 16.74687865603945\n",
      "time : 16.829276789515028\n",
      "time : 16.911677330436287\n",
      "time : 16.99407506320193\n",
      "time : 17.076464857811445\n",
      "time : 17.15884253927757\n",
      "time : 17.24120573542279\n",
      "time : 17.323553997072477\n",
      "time : 17.405888729403003\n",
      "time : 17.48821287418217\n",
      "time : 17.570530422744696\n",
      "time : 17.65284580745469\n",
      "time : 17.735163275689658\n",
      "time : 17.817486332531246\n",
      "time : 17.89981737754525\n",
      "time : 17.98215759310183\n",
      "time : 18.064506848616972\n",
      "time : 18.146864010599568\n",
      "time : 18.229227542497696\n",
      "time : 18.311596331679464\n",
      "time : 18.393971314504157\n",
      "time : 18.476356515137134\n",
      "time : 18.55875471852528\n",
      "time : 18.641166947731612\n",
      "time : 18.72359298747304\n",
      "time : 18.80603206207687\n",
      "time : 18.888483530360723\n",
      "time : 18.97094675239067\n",
      "time : 19.053420935257037\n",
      "time : 19.135905048284386\n",
      "time : 19.21839754700663\n",
      "time : 19.300896224404095\n",
      "time : 19.383398161575162\n",
      "time : 19.46589988660052\n",
      "time : 19.54839766540175\n",
      "time : 19.63088783560288\n",
      "time : 19.71336724133211\n",
      "time : 19.79583344418085\n",
      "time : 19.87828481428667\n",
      "time : 19.960720588329703\n",
      "Total time of simulation: 38.19705971 s\n"
     ]
    }
   ],
   "source": [
    "# final time\n",
    "tmax = 20#80#30#120#120#20#100#80\n",
    "\n",
    "# tolerances\n",
    "atol = 1e-10#1e-8#1e-7#5\n",
    "rtol = 1e-8#1e-6#1e-4#4\n",
    "\n",
    "# Call the solver\n",
    "elapsed_time = @elapsed begin\n",
    "sol = kbsolve!(\n",
    "    (x...) -> fv!(model, data, x...),\n",
    "    (x...) -> fd!(model, data, x...),\n",
    "    [data.GL, data.GG],\n",
    "    (0.0, tmax);\n",
    "    callback = (x...) -> self_Lead!(model, data, x...),\n",
    "    atol = atol,\n",
    "    rtol = rtol,\n",
    "    stop = x -> (println(\"time : $(x[end])\"); flush(stdout); false)\n",
    ")\n",
    "end\n",
    "\n",
    "println(\"Total time of simulation: \", elapsed_time, \" s\" )"
   ]
  },
  {
   "cell_type": "markdown",
   "id": "3bcd3108-6c76-4986-a556-d6650b8db3dc",
   "metadata": {
    "jp-MarkdownHeadingCollapsed": true
   },
   "source": [
    "### Fixed-step scheme"
   ]
  },
  {
   "cell_type": "code",
   "execution_count": null,
   "id": "c8b2026d-e34b-405f-aee2-102507734dbe",
   "metadata": {
    "scrolled": true
   },
   "outputs": [],
   "source": [
    "# tolerances\n",
    "# atol = 1e-8#1e-8#1e-7#\n",
    "# rtol = 1e-6#1e-6#1e-4#\n",
    "# dtini= 1e-6\n",
    "# elapsed_time = @elapsed begin\n",
    "# sol_fixed = kbsolve!(\n",
    "#     (x...) -> fv!(model, data, x...),\n",
    "#     (x...) -> fd!(model, data, x...),\n",
    "#     [data.GL, data.GG],\n",
    "#     (0.0, 20);\n",
    "#     callback = (x...) -> self_Lead!(model, data, x...),\n",
    "#     atol = atol,\n",
    "#     rtol = rtol,\n",
    "#     dtini=dtini,\n",
    "#     dtmax=1e-1,\n",
    "#     γ=9999/10000,\n",
    "#     stop = x -> (println(\"time : $(x[end])\"); flush(stdout); false)\n",
    "# )\n",
    "# end\n",
    "Δt = 1e-1  # your desired constant step\n",
    "\n",
    "sol_fixed = kbsolve!(\n",
    "    (x...) -> fv!(model, data, x...),\n",
    "    (x...) -> fd!(model, data, x...),\n",
    "    [data.GL, data.GG],\n",
    "    (0.0, 40);\n",
    "    callback = (x...) -> self_Lead!(model, data, x...),\n",
    "    # error tolerances won't change Δt now, but keep them reasonable\n",
    "    atol = 1e-2, \n",
    "    rtol = 1e-1,\n",
    "    # --- freeze the step size ---\n",
    "    dtini = Δt,\n",
    "    dtmax = Δt,\n",
    "    qmin  = 1.0,\n",
    "    qmax  = 1.0,\n",
    "    γ     = 1.0,\n",
    "    # --- optional: freeze the multistep order too ---\n",
    "    kmax = 2,  # or 2/3 if you want a fixed higher order (if the API exposes it)\n",
    "    stop = x -> (println(\"time : $(x[end])\"); flush(stdout); false)\n",
    ")\n",
    "\n",
    "# sol_fixed = kbsolve!(fv!, fd!, [GL, GG], (0.0, T); \n",
    "#     dtini=1e-6, rtol=1e-5, dtmax=1e-2, atol=1e-12, γ=9999/10000)"
   ]
  },
  {
   "cell_type": "markdown",
   "id": "a74773d6-8578-4583-b84e-cff07e021579",
   "metadata": {},
   "source": [
    "### Calculation of observables "
   ]
  },
  {
   "cell_type": "code",
   "execution_count": 31,
   "id": "6708a9e8-4353-4738-a485-b61b303d0360",
   "metadata": {},
   "outputs": [],
   "source": [
    "#sol=sol_fixed"
   ]
  },
  {
   "cell_type": "markdown",
   "id": "ab068733-8720-4076-b9ca-552f40044625",
   "metadata": {},
   "source": [
    "### Charge current "
   ]
  },
  {
   "cell_type": "code",
   "execution_count": 32,
   "id": "1cc2e419-2496-4e79-8676-02d4f128aa1e",
   "metadata": {},
   "outputs": [
    {
     "data": {
      "text/plain": [
       "∫dss (generic function with 1 method)"
      ]
     },
     "execution_count": 32,
     "metadata": {},
     "output_type": "execute_result"
    }
   ],
   "source": [
    "### Calculation of the current \n",
    "# Auxiliary integrator for the first type of integral\n",
    "function PI1(hs::Vector, t1, A::GreenFunction, B::GreenFunction)\n",
    "    retval = zero(A[t1, t1])\n",
    "    @inbounds for k in 1:t1\n",
    "        @views LinearAlgebra.mul!(retval, A[t1, k] , B[k, t1], hs[k], 1.0)\n",
    "    end\n",
    "    return retval\n",
    "end\n",
    "∫dss(t,A, B) = PI1(sol.w[t], t, A, B)"
   ]
  },
  {
   "cell_type": "code",
   "execution_count": 33,
   "id": "0d4708b0-6e36-4598-8f24-27f1f6b3c0a7",
   "metadata": {},
   "outputs": [
    {
     "data": {
      "text/plain": [
       "1:1:181"
      ]
     },
     "execution_count": 33,
     "metadata": {},
     "output_type": "execute_result"
    }
   ],
   "source": [
    "tss = 1:1:length(sol.t)"
   ]
  },
  {
   "cell_type": "code",
   "execution_count": 34,
   "id": "3378bb2c-1a55-4b00-8996-ccbd20a26879",
   "metadata": {},
   "outputs": [],
   "source": [
    "size_t = length(tss)\n",
    "Σ0L_left = zeros(ComplexF64,4,4,size_t,size_t) #zero(ΣL) \n",
    "Σ0L_right = zeros(ComplexF64,4,4,size_t,size_t) \n",
    "Σ0L_left[1:2,1:2,:,:]=ΣL[1:2,1:2,:,:] \n",
    "Σ0L_right[3:4,3:4,:,:]=ΣL[3:4,3:4,:,:] \n",
    "ΣL_left = GreenFunction(Σ0L_left, SkewHermitian)\n",
    "ΣL_right = GreenFunction(Σ0L_right, SkewHermitian)\n",
    "\n",
    "Σ0G_left = zeros(ComplexF64,4,4,size_t,size_t) #zero(ΣL) \n",
    "Σ0G_right = zeros(ComplexF64,4,4,size_t,size_t) \n",
    "Σ0G_left[1:2,1:2,:,:]=ΣG[1:2,1:2,:,:] \n",
    "Σ0G_right[3:4,3:4,:,:]=ΣG[3:4,3:4,:,:] \n",
    "ΣG_left = GreenFunction(Σ0G_left, SkewHermitian)\n",
    "ΣG_right = GreenFunction(Σ0G_right, SkewHermitian);"
   ]
  },
  {
   "cell_type": "code",
   "execution_count": 35,
   "id": "3cd341ff-9102-4dde-8fa3-328cbf38f39d",
   "metadata": {},
   "outputs": [],
   "source": [
    "#Σ0L_left[:,:,20,20]\n",
    "\n",
    "#0.5(1-1im(GL[tu,tu])+imag(GG[tu,tu]) ))"
   ]
  },
  {
   "cell_type": "code",
   "execution_count": 36,
   "id": "7e6fbe6f-ca99-46bb-aa59-41b8c349263e",
   "metadata": {},
   "outputs": [],
   "source": [
    "# test_sigma=Σ0L_left[1,1,:,1]\n",
    "# plt.plot(sol.t,real(test_sigma))\n",
    "# plt.plot(sol.t,imag(test_sigma))\n",
    "\n",
    "# ts= 0.1:0.1:30\n",
    "# # # plot(ts,Gamma_t.(ts))\n",
    "# # # plot(ts,Gamma2_t.(ts)/2)\n",
    "# plt.plot(ts,real(SelfL.(ts)))\n",
    "# plt.plot(ts,imag(SelfL.(ts)))\n",
    "# plt.plot(ts,real(SelfL.(ts)),ls=\"--\")\n",
    "# plt.plot(ts,imag(SelfL.(ts)),ls=\"--\")"
   ]
  },
  {
   "cell_type": "code",
   "execution_count": 37,
   "id": "c3b5870c-14db-44e4-aa80-9b24c3b537bf",
   "metadata": {},
   "outputs": [
    {
     "data": {
      "text/plain": [
       "Π_right (generic function with 1 method)"
      ]
     },
     "execution_count": 37,
     "metadata": {},
     "output_type": "execute_result"
    }
   ],
   "source": [
    "#Π(t) = ∫dss(t,GG, ΣL)- ∫dss(t,GL, ΣG)\n",
    "Π_left(t) = ∫dss(t,GG, ΣL_left)- ∫dss(t,GL, ΣG_left)\n",
    "Π_right(t) = ∫dss(t,GG, ΣL_right)- ∫dss(t,GL, ΣG_right)"
   ]
  },
  {
   "cell_type": "code",
   "execution_count": 38,
   "id": "c575d712-3e2b-4ce6-b74a-5502769a920e",
   "metadata": {},
   "outputs": [],
   "source": [
    "#Π_left(3)"
   ]
  },
  {
   "cell_type": "code",
   "execution_count": 39,
   "id": "f35d772c-7995-4416-91fb-7c10da93d211",
   "metadata": {},
   "outputs": [],
   "source": [
    "Curr_left= real(tr.(Π_left.(tss)))\n",
    "Curr_right= real(tr.(Π_right.(tss)));"
   ]
  },
  {
   "cell_type": "code",
   "execution_count": 40,
   "id": "661c9762-a152-4a40-943b-d8b2c1c433d5",
   "metadata": {},
   "outputs": [],
   "source": [
    "cc = [4*pi*Curr_left 4*pi*Curr_right];"
   ]
  },
  {
   "cell_type": "markdown",
   "id": "faa69a28-bd61-4234-bf91-88e3ecd34613",
   "metadata": {},
   "source": [
    "### Spin density "
   ]
  },
  {
   "cell_type": "code",
   "execution_count": 41,
   "id": "ebc509f5-3851-40c7-beab-eddc784d2623",
   "metadata": {},
   "outputs": [],
   "source": [
    "#σ_ijx[:,:,2]*imag(GL[10, 10]) \n",
    "#ΣL_left[3,10]\n",
    "#sy_den[100]\n",
    "#ΣL[10,20]\n",
    "\n",
    "#tr(imag(GL[tu,tu])+imag(GG[tu,tu]) )\n",
    "\n",
    "#tr(GL[tu,tu]+GG[tu,tu] )\n",
    "\n"
   ]
  },
  {
   "cell_type": "code",
   "execution_count": 94,
   "id": "eafb3302-5bfa-4541-86a3-520fb6ef3c51",
   "metadata": {},
   "outputs": [
    {
     "data": {
      "text/plain": [
       "1"
      ]
     },
     "execution_count": 94,
     "metadata": {},
     "output_type": "execute_result"
    }
   ],
   "source": [
    "one(3)"
   ]
  },
  {
   "cell_type": "code",
   "execution_count": 103,
   "id": "bcf785be-c80a-47e8-98f0-efacd8319c32",
   "metadata": {},
   "outputs": [
    {
     "data": {
      "text/plain": [
       "4×4 Matrix{ComplexF64}:\n",
       "  6.81023e-11+0.0im          …   4.38804e-10+3.94682e-10im\n",
       "  -4.6669e-10+3.99749e-10im       9.4369e-16-2.00175e-10im\n",
       " -5.55112e-16-2.9477e-10im        4.6669e-10+3.99749e-10im\n",
       "  4.38804e-10-3.94682e-10im     -1.17643e-10+0.0im"
      ]
     },
     "execution_count": 103,
     "metadata": {},
     "output_type": "execute_result"
    }
   ],
   "source": [
    "tu = 400\n",
    "uno = Matrix{ComplexF64}(I, 4, 4)\n",
    "-1im*(GL[tu,tu]) - 0.5*(  -1im*(GL[tu,tu]+GG[tu,tu]) + uno ) "
   ]
  },
  {
   "cell_type": "code",
   "execution_count": 68,
   "id": "b934beeb-9d45-4df5-9bb5-a7723491a6d5",
   "metadata": {},
   "outputs": [
    {
     "data": {
      "text/plain": [
       "4×4 Matrix{ComplexF64}:\n",
       " 5.55112e-17+0.941723im          0.0+0.0im       …          0.0+0.0im\n",
       "         0.0+0.0im       5.55112e-17+0.941723im             0.0+0.0im\n",
       "         0.0+0.0im               0.0+0.0im                  0.0+0.0im\n",
       "         0.0+0.0im               0.0+0.0im          5.55112e-17+0.941723im"
      ]
     },
     "execution_count": 68,
     "metadata": {},
     "output_type": "execute_result"
    }
   ],
   "source": [
    "#sx_den[100][1,2]\n",
    "tu = 10\n",
    "imag(GG[tu,tu]-GL[tu,tu])\n",
    "\n",
    "ΣL[:,:,tu,tu+5]  + (ΣG[:,:,tu+5,tu])'"
   ]
  },
  {
   "cell_type": "code",
   "execution_count": 49,
   "id": "fa7cc255-0c90-462f-aeb6-41014904a20d",
   "metadata": {},
   "outputs": [
    {
     "data": {
      "text/plain": [
       "4×4 adjoint(::Matrix{ComplexF64}) with eltype ComplexF64:\n",
       " 0.141635-0.470861im      -0.0-0.0im       …      -0.0+0.0im\n",
       "     -0.0-0.0im       0.141635-0.470861im         -0.0+0.0im\n",
       "     -0.0+0.0im           -0.0+0.0im              -0.0-0.0im\n",
       "     -0.0+0.0im           -0.0+0.0im          0.141635-0.470861im"
      ]
     },
     "execution_count": 49,
     "metadata": {},
     "output_type": "execute_result"
    }
   ],
   "source": [
    "#σ_ijx[:,:,3]\n",
    "#println(diag(sz_den[100]))#[1,1] sz_den[100][2,2] \n"
   ]
  },
  {
   "cell_type": "markdown",
   "id": "d30a2e20",
   "metadata": {},
   "source": [
    "# SOL"
   ]
  },
  {
   "cell_type": "code",
   "execution_count": 42,
   "id": "3188753f-5027-4c8d-bbe9-45c6e8d95a23",
   "metadata": {},
   "outputs": [],
   "source": [
    "#sol=sol_fixed\n",
    "sx_den = [-1im*σ_ijx[:,:,1]*GL[t, t] for t in eachindex(sol.t)] ;\n",
    "sx_1 = [sx_den[t][1,1]+sx_den[t][2,2]  for t in eachindex(sol.t) ]\n",
    "sx_2 = [sx_den[t][3,3]+sx_den[t][4,4]  for t in eachindex(sol.t) ]\n",
    "\n",
    "sy_den = [-1im*σ_ijx[:,:,2]*GL[t, t] for t in eachindex(sol.t)] ;\n",
    "sy_1 = [sy_den[t][1,1]+sy_den[t][2,2]  for t in eachindex(sol.t) ]\n",
    "sy_2 = [sy_den[t][3,3]+sy_den[t][4,4]  for t in eachindex(sol.t) ]\n",
    "\n",
    "\n",
    "sz_den = [-1im*σ_ijx[:,:,3]*GL[t, t] for t in eachindex(sol.t)] ;\n",
    "sz_1 = [sz_den[t][1,1]+sz_den[t][2,2]  for t in eachindex(sol.t) ]\n",
    "sz_2 = [sz_den[t][3,3]+sz_den[t][4,4]  for t in eachindex(sol.t) ]\n",
    "\n",
    "sd = real([sx_1 sy_1 sz_1 sx_2 sy_2 sz_2] ) ;\n",
    "#sx_den[1]\n",
    "\n",
    "#sy_2\n",
    "\n",
    "\n"
   ]
  },
  {
   "cell_type": "code",
   "execution_count": 43,
   "id": "b21025ff-7df6-413d-8a50-96f36424c2d0",
   "metadata": {},
   "outputs": [
    {
     "data": {
      "text/plain": [
       "4×4 Matrix{ComplexF64}:\n",
       " 0.5+0.499812im    0.5-0.0im         0.5-1.00161e-8im  0.5-0.0im\n",
       " 0.5-0.0im         0.5+0.499812im    0.5-0.0im         0.5-1.00161e-8im\n",
       " 0.5-1.00161e-8im  0.5-0.0im         0.5+0.499812im    0.5-0.0im\n",
       " 0.5-0.0im         0.5-1.00161e-8im  0.5-0.0im         0.5+0.499812im"
      ]
     },
     "execution_count": 43,
     "metadata": {},
     "output_type": "execute_result"
    }
   ],
   "source": [
    "#(-1im*GL[500,500]*σ_ijx[:,:,3])[1,1]\n",
    "-(GL[10, 10] + GG[10, 10] .- 1)/2"
   ]
  },
  {
   "cell_type": "code",
   "execution_count": 44,
   "id": "c5e4ac15-e9a5-4afa-a61e-7ac08f452094",
   "metadata": {},
   "outputs": [],
   "source": [
    "#(-1im*GL[500,500]*σ_ijx[:,:,3])[2,2]"
   ]
  },
  {
   "cell_type": "code",
   "execution_count": 60,
   "id": "04c7ccb4-d5d2-4a0a-9887-c3a98a6262e8",
   "metadata": {},
   "outputs": [
    {
     "data": {
      "text/plain": [
       "4×4 Matrix{ComplexF64}:\n",
       "          0.0+3.07674e-5im   …  -5.26006e-14-1.08591e-11im\n",
       " -4.56818e-14+9.20816e-12im      5.24315e-23+2.99071e-10im\n",
       " -5.32337e-23+2.394e-10im        4.56818e-14+9.20816e-12im\n",
       "  5.26006e-14-1.08591e-11im              0.0+3.07673e-5im"
      ]
     },
     "execution_count": 60,
     "metadata": {},
     "output_type": "execute_result"
    }
   ],
   "source": [
    "#σ_ijx[:,:,3]\n",
    "GL[10, 10]*1"
   ]
  },
  {
   "cell_type": "code",
   "execution_count": 46,
   "id": "b0033049-baf8-463b-9ebe-4f866a3cf0dc",
   "metadata": {},
   "outputs": [],
   "source": [
    "# #sz_2\n",
    "# ## density in x\n",
    "# println( (sd[end,1] + sd[end,4])*2 )\n",
    "# ## density in y\n",
    "# println(sd[end,2] + sd[end,5])\n",
    "# ## density in z\n",
    "# println(sd[end,3] + sd[end,6])"
   ]
  },
  {
   "cell_type": "code",
   "execution_count": 47,
   "id": "c7871ba6-9fcb-4f54-bae5-61a096e9b48d",
   "metadata": {},
   "outputs": [],
   "source": [
    "#sd"
   ]
  },
  {
   "cell_type": "code",
   "execution_count": 48,
   "id": "6446bbf0-790b-4487-bcf4-28e3fc46f190",
   "metadata": {},
   "outputs": [],
   "source": [
    "# # sc in x\n",
    "# println((sc[end,1]+sc[end,4]) )\n",
    "# # sc in y\n",
    "# println((sc[end,2]+sc[end,5])/(2pi) )\n",
    "# # sc in z\n",
    "# println((sc[end,3]+sc[end,6])/(2pi))"
   ]
  },
  {
   "cell_type": "code",
   "execution_count": 49,
   "id": "858d72d9-8f39-4012-a38a-97b497604508",
   "metadata": {},
   "outputs": [],
   "source": [
    "#(sc[:,1]+sc[:,4]) "
   ]
  },
  {
   "cell_type": "code",
   "execution_count": 44,
   "id": "6efdfa67-5e27-428a-bee4-011723ffac67",
   "metadata": {},
   "outputs": [],
   "source": [
    "#sd[:,3] + sd[:,6]\n",
    "# plt.plot(sx_1)\n",
    "# plt.plot(sy_1)\n",
    "# plt.plot(sz_1)\n",
    "\n",
    "# plt.plot(sx_2)\n",
    "# plt.plot(sy_2)\n",
    "# plt.plot(sz_2)"
   ]
  },
  {
   "cell_type": "markdown",
   "id": "f59dd86e-048b-46ab-b729-709bac03007f",
   "metadata": {},
   "source": [
    "### Charge density"
   ]
  },
  {
   "cell_type": "code",
   "execution_count": 45,
   "id": "45bedf2e-fbbe-4ac7-8cf1-e162ce9ac0a0",
   "metadata": {},
   "outputs": [],
   "source": [
    "cd1 = [imag(diag(GL[t, t]))[1]  for t in eachindex(sol.t)]\n",
    "cd2 = [imag(diag(GL[t, t]))[2]  for t in eachindex(sol.t)]\n",
    "cd3 = [imag(diag(GL[t, t]))[3]  for t in eachindex(sol.t)]\n",
    "cd4 = [imag(diag(GL[t, t]))[4]  for t in eachindex(sol.t)]\n",
    "\n",
    "cd = [cd1 cd2 cd3 cd4] ;"
   ]
  },
  {
   "cell_type": "code",
   "execution_count": 46,
   "id": "d950d9e6-0cd1-4953-82b8-e6512a45635d",
   "metadata": {},
   "outputs": [],
   "source": [
    "#cd;\n",
    "# PyPlot.plot(sol.t, mapreduce(permutedims, vcat, [imag(diag(GL[t, t])) for t in eachindex(sol.t)]))\n",
    "# PyPlot.plot(sol.t, [imag(diag(GL[t, t])[1]) for t in eachindex(sol.t)] )\n",
    "# PyPlot.plot(sol.t, [imag(diag(GL[t, t])[2]) for t in eachindex(sol.t)] )\n",
    "\n",
    "\n",
    "#cd[:,1]*2"
   ]
  },
  {
   "cell_type": "code",
   "execution_count": 47,
   "id": "307d6ef4-5b51-4498-8b4d-6c44ccf1ad14",
   "metadata": {},
   "outputs": [],
   "source": [
    "#cd[:,4]*2\n",
    "#Π_left(5)#(t)"
   ]
  },
  {
   "cell_type": "markdown",
   "id": "7391dc3b-ff59-4749-8c88-fa9b60a0b52b",
   "metadata": {},
   "source": [
    "### Spin Current "
   ]
  },
  {
   "cell_type": "code",
   "execution_count": 48,
   "id": "e8513714-6e6e-4848-883c-995cf0de3823",
   "metadata": {},
   "outputs": [],
   "source": [
    "#eachindex(sol.t)\n",
    "Π_l_x(t) = σ_ijx[:,:,1]*Π_left(t)\n",
    "Π_l_y(t) = σ_ijx[:,:,2]*Π_left(t)\n",
    "Π_l_z(t) = σ_ijx[:,:,3]*Π_left(t)\n",
    "\n",
    "Π_r_x(t) = σ_ijx[:,:,1]*Π_right(t)\n",
    "Π_r_y(t) = σ_ijx[:,:,2]*Π_right(t)\n",
    "Π_r_z(t) = σ_ijx[:,:,3]*Π_right(t)\n",
    "\n",
    "C_l_x= real(tr.(Π_l_x.(tss)))\n",
    "C_l_y= real(tr.(Π_l_y.(tss)))\n",
    "C_l_z= real(tr.(Π_l_z.(tss))) ; \n",
    "\n",
    "\n",
    "C_r_x= real(tr.(Π_r_x.(tss)))\n",
    "C_r_y= real(tr.(Π_r_y.(tss)))\n",
    "C_r_z= real(tr.(Π_r_z.(tss))) ; \n",
    "\n",
    "sc = [4pi*C_l_x 4pi*C_l_y 4pi*C_l_z 4pi*C_r_x 4pi*C_r_y 4pi*C_r_z] ;"
   ]
  },
  {
   "cell_type": "markdown",
   "id": "88a51521-de67-44ea-97a4-b1d11a0b69e3",
   "metadata": {},
   "source": [
    "## Figures"
   ]
  },
  {
   "cell_type": "markdown",
   "id": "19738b8e-d652-4a48-ae91-8c1ab7228645",
   "metadata": {},
   "source": [
    "### Load data \n"
   ]
  },
  {
   "cell_type": "code",
   "execution_count": 49,
   "id": "2c10cfd5-c443-4ede-84aa-b1c3d5e958bd",
   "metadata": {},
   "outputs": [
    {
     "data": {
      "text/plain": [
       "25"
      ]
     },
     "execution_count": 49,
     "metadata": {},
     "output_type": "execute_result"
    }
   ],
   "source": [
    "using PyPlot\n",
    "using DelimitedFiles\n",
    "#const plt = PyPlot\n",
    "# Set rcParams in Julia\n",
    "plt.rc(\"axes\", linewidth=1)  # Set the linewidth of the plot axes\n",
    "plt.rc(\"text\", usetex=true)  # Enable LaTeX rendering of text\n",
    "fs = 25"
   ]
  },
  {
   "cell_type": "markdown",
   "id": "18e593de-0659-44b1-bf00-439786a70ab3",
   "metadata": {},
   "source": []
  },
  {
   "cell_type": "code",
   "execution_count": 50,
   "id": "31cddd04-2cee-4435-8e57-b0f9bd68a4cb",
   "metadata": {},
   "outputs": [
    {
     "data": {
      "text/plain": [
       "1.5707963267948966"
      ]
     },
     "execution_count": 50,
     "metadata": {},
     "output_type": "execute_result"
    }
   ],
   "source": [
    "#uu=[sd[:,3]\n",
    "pi/2"
   ]
  },
  {
   "cell_type": "markdown",
   "id": "efd86a1d-ed82-4a77-8ac1-f1f1ef26989e",
   "metadata": {},
   "source": [
    "### Spin density "
   ]
  },
  {
   "cell_type": "code",
   "execution_count": 51,
   "id": "6d89cb22-3000-4015-b76b-b4137233d88b",
   "metadata": {},
   "outputs": [
    {
     "data": {
      "image/png": "[encoded data removed]",
      "text/plain": [
       "Figure(PyObject <Figure size 640x480 with 1 Axes>)"
      ]
     },
     "metadata": {},
     "output_type": "display_data"
    },
    {
     "data": {
      "text/plain": [
       "PyObject <matplotlib.lines.Line2D object at 0x7fb82b267a70>"
      ]
     },
     "execution_count": 51,
     "metadata": {},
     "output_type": "execute_result"
    }
   ],
   "source": [
    "\n",
    "fig,axs =  plt.subplots(1,1)\n",
    "site = 1\n",
    "sites = range(1,6)\n",
    "# for i in site \n",
    "#     axs.plot(ts_cd, cden_ta1[:,i]*det,label= \"site=$(i)\")#,alpha =1-0.2*i ) ### Charge bound current\n",
    "#     axs.plot(ts_cd, cden_ta1[:,i+1]*det,label= \"site=$(i+1)\")#\n",
    "# end\n",
    "axs.plot(sol.t, sd[:,1],label= \"site=$(1)\")#,alpha =1-0.2*i ) ### Charge bound current\n",
    "axs.plot(sol.t, sd[:,2],label= \"site=$(1)\")\n",
    "axs.plot(sol.t, sd[:,3],label= \"site=$(1)\")\n",
    "#axs.plot(sol.t, sd[:,6],label= \"site=$(1)\")\n",
    "#axs.plot(sol.t, -cd[:,3],label= \"site=$(1)\",ls = \"--\")#\n",
    "#axs.plot(sol.t, cd[:,3].+cd[:,4],label= \"site=$(2)\")\n",
    "\n",
    "axs.set_ylabel(raw\"$\\langle\\mathrm{\\hat{s}^{\\alpha}_i}\\rangle$\", fontsize = fs)\n",
    "axs.set_xlabel(raw\"$\\mathrm{Time\\ (fs)}$\",fontsize = fs)\n",
    "axs.tick_params(axis=\"both\", which=\"both\", labelsize=fs,direction=\"in\", length=6,width=1)\n",
    "axs.ticklabel_format(axis=\"y\", style=\"sci\", scilimits=(-1,2), useMathText=true)\n",
    "axs.yaxis.offsetText.set_fontsize(fs)\n",
    "plt.legend(frameon = false, fontsize = fs-10, loc= (0.7,  0.1))\n",
    "#plt.ylim(2e-2-0.1e-2,2e-2+0.2e-2)\n",
    "plt.axhline(0.035)\n",
    "\n",
    "#plt.axhline(0.013)#plt.axhline(0.035)\n",
    "plt.axhline(0.0325)\n",
    "#plt.axhline(0.002)\n",
    "#plt.ylim(0.035-0.01,0.035+0.01)\n",
    "#plt.ylim(0.0,0.05)\n",
    "# plt.xlim(70,80)\n",
    "#plt.xlim(50,120)\n",
    "#plt.axhline(0.5,ls = \"--\",color=\"gray\",lw = 0.5)"
   ]
  },
  {
   "cell_type": "code",
   "execution_count": 63,
   "id": "cee555f0-4b3d-4ef2-aed5-e1f3c609d896",
   "metadata": {},
   "outputs": [
    {
     "data": {
      "text/plain": [
       "2.2370800848121594e-8"
      ]
     },
     "execution_count": 63,
     "metadata": {},
     "output_type": "execute_result"
    }
   ],
   "source": [
    "G = GL[100,2]\n",
    "sz1_sigma = real(-0.5im * ((σ_ijx[:,:,3]*G)[1,1] + (σ_ijx[:,:,3]*G)[2,2]))\n",
    "sz1_diag  = 0.5 * (imag(G[1,1]) - imag(G[2,2]))"
   ]
  },
  {
   "cell_type": "code",
   "execution_count": 102,
   "id": "4407c615-b36b-45ec-9df7-9d5702729280",
   "metadata": {},
   "outputs": [
    {
     "data": {
      "text/plain": [
       "9.845168240865955e-9"
      ]
     },
     "execution_count": 102,
     "metadata": {},
     "output_type": "execute_result"
    }
   ],
   "source": [
    "#99/100\n",
    "sz1_sigma = real(-0.5im * ((σ_ijx[:,:,3]*G)[1,1] + (σ_ijx[:,:,3]*G)[2,2]))"
   ]
  },
  {
   "cell_type": "markdown",
   "id": "3cc0db5a-b396-4a9b-b988-9376cf0bca8f",
   "metadata": {},
   "source": [
    "### Local density "
   ]
  },
  {
   "cell_type": "code",
   "execution_count": 53,
   "id": "4bc094d0-bfeb-4c42-a8ab-5d9c1fa77c96",
   "metadata": {},
   "outputs": [
    {
     "data": {
      "image/png": "[encoded data removed]",
      "text/plain": [
       "Figure(PyObject <Figure size 640x480 with 1 Axes>)"
      ]
     },
     "metadata": {},
     "output_type": "display_data"
    },
    {
     "data": {
      "text/plain": [
       "(0.0, 10.0)"
      ]
     },
     "execution_count": 53,
     "metadata": {},
     "output_type": "execute_result"
    }
   ],
   "source": [
    "\n",
    "fig,axs =  plt.subplots(1,1)\n",
    "site = 2\n",
    "sites = range(1,6)\n",
    "# for i in site \n",
    "#     axs.plot(ts_cd, cden_ta1[:,i]*det,label= \"site=$(i)\")#,alpha =1-0.2*i ) ### Charge bound current\n",
    "#     axs.plot(ts_cd, cden_ta1[:,i+1]*det,label= \"site=$(i+1)\")#\n",
    "# end\n",
    "axs.plot(sol.t, cd[:,1]+cd[:,2],label= \"site=$(1)\")#,alpha =1-0.2*i ) ### Charge bound current\n",
    "#axs.plot(sol.t, -cd[:,3],label= \"site=$(1)\",ls = \"--\")#\n",
    "axs.plot(sol.t, cd[:,3].+cd[:,4],label= \"site=$(2)\")\n",
    "\n",
    "axs.set_ylabel(raw\"$\\langle\\mathrm{\\hat{n}^{\\alpha}_i}\\rangle$\", fontsize = fs)\n",
    "axs.set_xlabel(raw\"$\\mathrm{Time\\ (fs)}$\",fontsize = fs)\n",
    "axs.tick_params(axis=\"both\", which=\"both\", labelsize=fs,direction=\"in\", length=6,width=1)\n",
    "axs.ticklabel_format(axis=\"y\", style=\"sci\", scilimits=(-1,2), useMathText=true)\n",
    "axs.yaxis.offsetText.set_fontsize(fs)\n",
    "plt.legend(frameon = false, fontsize = fs-10, loc= (0.7,  0.1))\n",
    "#plt.xlim(100,120)\n",
    "plt.axhline(0.5,ls = \"--\",color=\"gray\",lw = 0.5)\n",
    "plt.xlim(0,10)\n",
    "#plt.ylim(1-0.05,1+0.05)"
   ]
  },
  {
   "cell_type": "code",
   "execution_count": null,
   "id": "d3f8f0d0-28a8-452a-b90a-4f396b4d0ea5",
   "metadata": {},
   "outputs": [],
   "source": []
  },
  {
   "cell_type": "code",
   "execution_count": 52,
   "id": "2e178e35-cc1d-4956-90c8-5d8dd5563d1a",
   "metadata": {},
   "outputs": [],
   "source": [
    "#cc[:,1]"
   ]
  },
  {
   "cell_type": "markdown",
   "id": "f34a516b-d3ac-4a9c-ae52-492010f23bcb",
   "metadata": {},
   "source": [
    "### Charge current "
   ]
  },
  {
   "cell_type": "code",
   "execution_count": 127,
   "id": "539366b7-12d5-4282-9dd0-98cbdf306e0e",
   "metadata": {},
   "outputs": [
    {
     "data": {
      "image/png": "[encoded data removed]",
      "text/plain": [
       "Figure(PyObject <Figure size 640x480 with 1 Axes>)"
      ]
     },
     "metadata": {},
     "output_type": "display_data"
    },
    {
     "data": {
      "text/plain": [
       "(110.0, 120.0)"
      ]
     },
     "execution_count": 127,
     "metadata": {},
     "output_type": "execute_result"
    }
   ],
   "source": [
    "fig,axs = plt.subplots(1,1)\n",
    "\n",
    "plt.plot(sol.t, cc[:,1])\n",
    "plt.plot(sol.t, cc[:,2])\n",
    "axs.set_ylabel(L\"$\\mathrm{I\\ (e\\gamma/h)}$\", fontsize = fs)\n",
    "axs.set_xlabel(raw\"$\\mathrm{Time\\ (fs)}$\",fontsize = fs)\n",
    "axs.tick_params(axis=\"both\", which=\"both\", labelsize=fs,direction=\"in\", length=6,width=1)\n",
    "axs.ticklabel_format(axis=\"y\", style=\"sci\", scilimits=(-1,2), useMathText=true)\n",
    "axs.yaxis.offsetText.set_fontsize(fs)\n",
    "plt.legend(frameon = false, fontsize = fs-10, loc= (0.01,  0.8))\n",
    "#plt.xlim(30,80)\n",
    "plt.axhline(0.1,ls = \"--\",lw=0.5)\n",
    "plt.axhline(-0.1,ls = \"--\",lw=0.5)\n",
    "#plt.axhline(0.0,ls = \"--\",lw=0.5)\n",
    "#plt.axhline(0.05,ls = \"--\",lw=0.5)\n",
    "plt.ylim(-2,6.5)\n",
    "plt.show()\n",
    "#plt.ylim(-0.05,0.05)\n",
    "plt.ylim(-1e-2,1e-2)\n",
    "\n",
    "\n",
    "#plt.ylim(0.1-1e-2,0.1+1e-2)\n",
    "plt.xlim(110,120)"
   ]
  },
  {
   "cell_type": "markdown",
   "id": "50f8aeab-2d81-45d5-8022-0ea1bf8ee4f8",
   "metadata": {},
   "source": [
    "### Spin current"
   ]
  },
  {
   "cell_type": "code",
   "execution_count": 128,
   "id": "f763bd4a-caee-4eca-985f-f5e882d3d545",
   "metadata": {},
   "outputs": [
    {
     "data": {
      "image/png": "[encoded data removed]",
      "text/plain": [
       "Figure(PyObject <Figure size 640x480 with 1 Axes>)"
      ]
     },
     "metadata": {},
     "output_type": "display_data"
    },
    {
     "data": {
      "text/plain": [
       "PyObject <matplotlib.legend.Legend object at 0x7fa65dff6c00>"
      ]
     },
     "execution_count": 128,
     "metadata": {},
     "output_type": "execute_result"
    }
   ],
   "source": [
    "fig,axs = plt.subplots(1,1)\n",
    "\n",
    "plt.plot(sol.t, sc[:,1])\n",
    "plt.plot(sol.t, sc[:,2])\n",
    "plt.plot(sol.t, sc[:,3])\n",
    "axs.set_ylabel(L\"$\\mathrm{I_L^{S^{\\alpha}}\\ (e\\gamma/h)}$\", fontsize = fs)\n",
    "axs.set_xlabel(raw\"$\\mathrm{Time\\ (fs)}$\",fontsize = fs)\n",
    "axs.tick_params(axis=\"both\", which=\"both\", labelsize=fs,direction=\"in\", length=6,width=1)\n",
    "axs.ticklabel_format(axis=\"y\", style=\"sci\", scilimits=(-1,2), useMathText=true)\n",
    "axs.yaxis.offsetText.set_fontsize(fs)\n",
    "plt.legend(frameon = false, fontsize = fs-10, loc= (0.01,  0.8))"
   ]
  },
  {
   "cell_type": "code",
   "execution_count": 129,
   "id": "7645a3c6-7633-4878-a685-e6ca6eb2c67b",
   "metadata": {},
   "outputs": [
    {
     "data": {
      "image/png": "[encoded data removed]",
      "text/plain": [
       "Figure(PyObject <Figure size 640x480 with 1 Axes>)"
      ]
     },
     "metadata": {},
     "output_type": "display_data"
    },
    {
     "data": {
      "text/plain": [
       "(-0.001, 0.001)"
      ]
     },
     "execution_count": 129,
     "metadata": {},
     "output_type": "execute_result"
    }
   ],
   "source": [
    "fig,axs = plt.subplots(1,1)\n",
    "\n",
    "plt.plot(sol.t, C_l_x)\n",
    "plt.plot(sol.t, C_l_y)\n",
    "plt.plot(sol.t, C_l_z)\n",
    "axs.set_ylabel(L\"$\\mathrm{I^{S^{\\alpha}}\\ (e\\gamma/h)}$\", fontsize = fs)\n",
    "axs.set_xlabel(raw\"$\\mathrm{Time\\ (fs)}$\",fontsize = fs)\n",
    "axs.tick_params(axis=\"both\", which=\"both\", labelsize=fs,direction=\"in\", length=6,width=1)\n",
    "axs.ticklabel_format(axis=\"y\", style=\"sci\", scilimits=(-1,2), useMathText=true)\n",
    "axs.yaxis.offsetText.set_fontsize(fs)\n",
    "plt.legend(frameon = false, fontsize = fs-10, loc= (0.01,  0.8))\n",
    "plt.ylim(-0.001,0.001)"
   ]
  },
  {
   "cell_type": "code",
   "execution_count": 71,
   "id": "6316b994-514e-4dda-be93-64a0f66cc391",
   "metadata": {},
   "outputs": [],
   "source": [
    "\n",
    "\n",
    "# using DelimitedFiles\n",
    "# cc_f = open(\"/home/jalil2/Documents/KBA/data/curr_KBE_jl.txt\", \"w+\") \n",
    "\n",
    "# writedlm(cc_f, [sol.t Curr_left], ' ' )\n",
    "\n",
    "# close(cc_f)"
   ]
  },
  {
   "cell_type": "markdown",
   "id": "2feb176f-f207-458f-b665-824e895d4a27",
   "metadata": {},
   "source": [
    "### Check"
   ]
  },
  {
   "cell_type": "code",
   "execution_count": 99,
   "id": "3d58ee5a-be23-4a65-9327-459fd4ecb1b7",
   "metadata": {},
   "outputs": [],
   "source": [
    "#sol.w"
   ]
  },
  {
   "cell_type": "code",
   "execution_count": 111,
   "id": "0648ae9c-9d02-431c-8bce-77b5db32c966",
   "metadata": {},
   "outputs": [
    {
     "name": "stdout",
     "output_type": "stream",
     "text": [
      "MethodInstance for integrate1(::Vector{Vector{Float64}}, ::Int64, ::Int64, ::GreenFunction{ComplexF64, 4, Array{ComplexF64, 4}, SkewHermitian}, ::GreenFunction{ComplexF64, 4, Array{ComplexF64, 4}, SkewHermitian}, ::GreenFunction{ComplexF64, 4, Array{ComplexF64, 4}, SkewHermitian})\n",
      "  from integrate1(\u001b[90mhs\u001b[39m::\u001b[1mVector\u001b[22m, \u001b[90mt1\u001b[39m, \u001b[90mt2\u001b[39m, \u001b[90mA\u001b[39m::\u001b[1mGreenFunction\u001b[22m, \u001b[90mB\u001b[39m::\u001b[1mGreenFunction\u001b[22m, \u001b[90mC\u001b[39m::\u001b[1mGreenFunction\u001b[22m; tmax)\u001b[90m @\u001b[39m \u001b[90mMain\u001b[39m \u001b[90m\u001b[4mIn[5]:10\u001b[24m\u001b[39m\n",
      "Arguments\n",
      "  #self#\u001b[36m::Core.Const(Main.integrate1)\u001b[39m\n",
      "  hs\u001b[36m::Vector{Vector{Float64}}\u001b[39m\n",
      "  t1\u001b[36m::Int64\u001b[39m\n",
      "  t2\u001b[36m::Int64\u001b[39m\n",
      "  A\u001b[36m::GreenFunction{ComplexF64, 4, Array{ComplexF64, 4}, SkewHermitian}\u001b[39m\n",
      "  B\u001b[36m::GreenFunction{ComplexF64, 4, Array{ComplexF64, 4}, SkewHermitian}\u001b[39m\n",
      "  C\u001b[36m::GreenFunction{ComplexF64, 4, Array{ComplexF64, 4}, SkewHermitian}\u001b[39m\n",
      "Body\u001b[36m::Matrix{ComplexF64}\u001b[39m\n",
      " %1 = Main.:(var\"#integrate1#6\")\u001b[36m::Core.Const(Main.var\"#integrate1#6\")\u001b[39m\n",
      "%1)(t1, #self#, hs, t1, t2, A, B, C)\u001b[36m::Matrix{ComplexF64}\u001b[39m\n",
      "\u001b[90m└──\u001b[39m      return %2\n",
      "\n",
      "MethodInstance for integrate2(::Vector{Vector{Float64}}, ::Int64, ::Int64, ::GreenFunction{ComplexF64, 4, Array{ComplexF64, 4}, SkewHermitian}, ::GreenFunction{ComplexF64, 4, Array{ComplexF64, 4}, SkewHermitian}, ::GreenFunction{ComplexF64, 4, Array{ComplexF64, 4}, SkewHermitian})\n",
      "  from integrate2(\u001b[90mhs\u001b[39m::\u001b[1mVector\u001b[22m, \u001b[90mt1\u001b[39m, \u001b[90mt2\u001b[39m, \u001b[90mA\u001b[39m::\u001b[1mGreenFunction\u001b[22m, \u001b[90mB\u001b[39m::\u001b[1mGreenFunction\u001b[22m, \u001b[90mC\u001b[39m::\u001b[1mGreenFunction\u001b[22m; tmax)\u001b[90m @\u001b[39m \u001b[90mMain\u001b[39m \u001b[90m\u001b[4mIn[5]:18\u001b[24m\u001b[39m\n",
      "Arguments\n",
      "  #self#\u001b[36m::Core.Const(Main.integrate2)\u001b[39m\n",
      "  hs\u001b[36m::Vector{Vector{Float64}}\u001b[39m\n",
      "  t1\u001b[36m::Int64\u001b[39m\n",
      "  t2\u001b[36m::Int64\u001b[39m\n",
      "  A\u001b[36m::GreenFunction{ComplexF64, 4, Array{ComplexF64, 4}, SkewHermitian}\u001b[39m\n",
      "  B\u001b[36m::GreenFunction{ComplexF64, 4, Array{ComplexF64, 4}, SkewHermitian}\u001b[39m\n",
      "  C\u001b[36m::GreenFunction{ComplexF64, 4, Array{ComplexF64, 4}, SkewHermitian}\u001b[39m\n",
      "Body\u001b[36m::Matrix{ComplexF64}\u001b[39m\n",
      "\u001b[90m1 ─\u001b[39m %1 = Main.:(var\"#integrate2#7\")\u001b[36m::Core.Const(Main.var\"#integrate2#7\")\u001b[39m\n",
      "\u001b[90m│  \u001b[39m %2 = (%1)(t2, #self#, hs, t1, t2, A, B, C)\u001b[36m::Matrix{ComplexF64}\u001b[39m\n",
      "\u001b[90m└──\u001b[39m      return %2\n",
      "\n"
     ]
    }
   ],
   "source": [
    "@code_warntype integrate1(sol.w, 10, 7, ΣG, ΣL, GL)\n",
    "@code_warntype integrate2(sol.w, 10, 7, ΣL, GL, GG)"
   ]
  },
  {
   "cell_type": "code",
   "execution_count": 94,
   "id": "007830ae-50ed-467a-afc5-7a0211b2a99c",
   "metadata": {},
   "outputs": [],
   "source": [
    "@assert eltype(GL[1,1]) <: Complex    # bloques complejos\n",
    "@assert eltype(GG[1,1]) <: Complex\n",
    "@assert eltype(ΣL[1,1]) <: Complex && eltype(ΣG[1,1]) <: Complex"
   ]
  },
  {
   "cell_type": "code",
   "execution_count": 97,
   "id": "df7f7cad-8a46-4f9e-b95e-d566eb3c0e19",
   "metadata": {},
   "outputs": [
    {
     "data": {
      "text/plain": [
       "s_eq_z (generic function with 1 method)"
      ]
     },
     "execution_count": 97,
     "metadata": {},
     "output_type": "execute_result"
    }
   ],
   "source": [
    "# === s_z de equilibrio por sitio (usa selfenergy de tu código) ===\n",
    "function s_eq_z(H; γ=γ, γcL=1.0, γcR=1.0, μ=0.0, T=0.05, kB=1.0,\n",
    "                dε=1e-3, η=1e-12, Eband=nothing)\n",
    "    # H: Hamiltoniano 4x4 del dímero (2 sitios × 2 spins)\n",
    "    # γ, γcL, γcR: hopping de lead 1D y acoplos a L/R\n",
    "    # μ, T, kB   : químicos y temperatura (en T-unidades compatibles con H)\n",
    "    # dε, η      : paso de energía y ancho infinitesimal para GR\n",
    "    # Eband      : semiancho de integración; por defecto 2γ\n",
    "\n",
    "    n = size(H,1)              # debe ser 2*2 = 4\n",
    "    @assert n % 2 == 0 \"H debe tener bloques 2×2 por sitio (spin)\"\n",
    "    ns = div(n,2)              # número de sitios (2)\n",
    "    I2 = Matrix{ComplexF64}(I, 2, 2)\n",
    "    In = Matrix{ComplexF64}(I, n, n)\n",
    "    σz_full = σ_ijx[:,:,3]     # ya la tienes definida: diag(1,-1,1,-1)\n",
    "    if Eband === nothing\n",
    "        Eband = 2γ             # borde de banda del 1D\n",
    "    end\n",
    "\n",
    "    εs = -Eband:dε:Eband\n",
    "    w  = ones(length(εs)); w[1] = 0.5; w[end] = 0.5   # trapecio\n",
    "\n",
    "    s = zeros(Float64, ns)\n",
    "\n",
    "    for (j, ε) in enumerate(εs)\n",
    "        # Σ^R embebidas por sitio (bloques 2×2 en [1:2,1:2] y [3:4,3:4])\n",
    "        ΣLε = selfenergy(ε; γ=γ, γc=γcL)\n",
    "        ΣRε = selfenergy(ε; γ=γ, γc=γcR)\n",
    "\n",
    "        ΣR = zeros(ComplexF64, n, n)\n",
    "        ΣR[1:2, 1:2]                 .+= ΣLε * I2\n",
    "        ΣR[n-1:n, n-1:n]             .+= ΣRε * I2\n",
    "\n",
    "        # Retardado/avanzado y Γ total\n",
    "        GR = inv((ε + 1im*η)*In - H - ΣR)\n",
    "        GA = GR'\n",
    "        Γ  = zeros(ComplexF64, n, n)\n",
    "        Γ[1:2, 1:2]                  .+= (-2*imag(ΣLε)) * I2\n",
    "        Γ[n-1:n, n-1:n]              .+= (-2*imag(ΣRε)) * I2\n",
    "\n",
    "        f = 1.0 / (1.0 + exp((ε - μ)/(kB*T)))   # Fermi(ε)\n",
    "\n",
    "        X = GR * (Γ * f) * GA   # matriz 4x4 que pesa las contribuciones\n",
    "\n",
    "        # s_z por sitio: (1/2) * tr_spin(σ_z * X_ii)\n",
    "        for i in 1:ns\n",
    "            off = 2*(i-1)\n",
    "            Xi  = X[off+1:off+2, off+1:off+2]\n",
    "            s[i] += w[j] * real(tr(σ_z * Xi))\n",
    "        end\n",
    "    end\n",
    "\n",
    "    s .*= dε/(2π)\n",
    "    return s   # devuelve [s_z^eq(sitio 1), s_z^eq(sitio 2)]\n",
    "end\n"
   ]
  },
  {
   "cell_type": "code",
   "execution_count": null,
   "id": "8acd29f9-6881-4f6d-8067-e2893af31dea",
   "metadata": {},
   "outputs": [],
   "source": [
    "s_eq_z(H0; γ=γ, γcL=1.0, γcR=1.0, T=300, kB=8.6173324e-5)"
   ]
  },
  {
   "cell_type": "code",
   "execution_count": 105,
   "id": "6f90a832-9e2c-4c27-a858-b89f824031f3",
   "metadata": {},
   "outputs": [
    {
     "data": {
      "text/plain": [
       "s_eq_z (generic function with 1 method)"
      ]
     },
     "execution_count": 105,
     "metadata": {},
     "output_type": "execute_result"
    }
   ],
   "source": [
    "function s_eq_z(H; γ=γ, γcL=1.0, γcR=1.0,\n",
    "                μL=0.0, μR=0.0, TL=0.05, TR=0.05, kB=1.0,\n",
    "                dε=1e-3, η=1e-12, Eband=2γ)\n",
    "    n   = size(H,1); ns = div(n,2)\n",
    "    I2  = Matrix{ComplexF64}(I, 2, 2)\n",
    "    In  = Matrix{ComplexF64}(I, n, n)\n",
    "    εs  = -Eband:dε:Eband\n",
    "    w   = ones(length(εs)); w[1]=0.5; w[end]=0.5\n",
    "    s   = zeros(Float64, ns)\n",
    "\n",
    "    fF(ε, μ, T) = 1 / (1 + exp((ε-μ)/(kB*T)))\n",
    "\n",
    "    for (j, ε) in enumerate(εs)\n",
    "        ΣLε = selfenergy(ε; γ=γ, γc=γcL)\n",
    "        ΣRε = selfenergy(ε; γ=γ, γc=γcR)\n",
    "\n",
    "        ΣR  = zeros(ComplexF64, n, n)\n",
    "        ΣR[1:2, 1:2]             .+= ΣLε * I2\n",
    "        ΣR[n-1:n, n-1:n]         .+= ΣRε * I2\n",
    "\n",
    "        ΓL  = (-2*imag(ΣLε)) * I2\n",
    "        ΓR  = (-2*imag(ΣRε)) * I2\n",
    "\n",
    "        GR  = inv((ε + 1im*η)*In - H - ΣR)\n",
    "        GA  = GR'\n",
    "\n",
    "        M   = zeros(ComplexF64, n, n)\n",
    "        M[1:2, 1:2]              .+= ΓL * fF(ε, μL, TL)\n",
    "        M[n-1:n, n-1:n]          .+= ΓR * fF(ε, μR, TR)\n",
    "\n",
    "        X   = GR * M * GA   # matriz 4x4\n",
    "        # s_z por sitio: (1/2) tr_spin(σ_z * X_ii)\n",
    "        for i in 1:ns\n",
    "            off = 2*(i-1)\n",
    "            Xi  = X[off+1:off+2, off+1:off+2]\n",
    "            s[i] += w[j] * real(tr(σ_z * Xi))\n",
    "        end\n",
    "    end\n",
    "    s .*= dε/(2π)\n",
    "    return s\n",
    "end\n"
   ]
  },
  {
   "cell_type": "code",
   "execution_count": 111,
   "id": "9a3c7f5d-e0bf-4ba9-8073-b0dee780302b",
   "metadata": {},
   "outputs": [
    {
     "data": {
      "text/plain": [
       "2-element Vector{Float64}:\n",
       " -0.04852953263389707\n",
       " -0.048529532633897074"
      ]
     },
     "execution_count": 111,
     "metadata": {},
     "output_type": "execute_result"
    }
   ],
   "source": [
    "H0 = hs_t(100)                 # tu función ya definida\n",
    "KB = 8.6173324e-5\n",
    "s_eq = s_eq_z(H0;  γ=γ, γcL=1.0, γcR=1.0,\n",
    "                μL=0.0, μR=0.0, TL=300, TR=300,\n",
    "                dε=1e-2, η=1e-12, Eband=2γ, kB=8.6173324e-5)"
   ]
  },
  {
   "cell_type": "code",
   "execution_count": 130,
   "id": "929074cd-7985-4529-9b38-f2da199a2346",
   "metadata": {},
   "outputs": [
    {
     "data": {
      "text/plain": [
       "2-element Vector{Float64}:\n",
       " -0.035426558822744855\n",
       " -0.03542655882274486"
      ]
     },
     "execution_count": 130,
     "metadata": {},
     "output_type": "execute_result"
    }
   ],
   "source": [
    "s_eq*0.73"
   ]
  },
  {
   "cell_type": "code",
   "execution_count": 150,
   "id": "696531ad-7130-45e1-ba5f-aaa5bf4030f8",
   "metadata": {},
   "outputs": [
    {
     "data": {
      "text/plain": [
       "4×4 Matrix{ComplexF64}:\n",
       " -0.0965926+0.0im  -0.0258819+0.0im        -1.0+0.0im         0.0+0.0im\n",
       " -0.0258819+0.0im   0.0965926+0.0im         0.0+0.0im        -1.0+0.0im\n",
       "       -1.0+0.0im         0.0+0.0im  -0.0965926+0.0im  -0.0258819+0.0im\n",
       "        0.0+0.0im        -1.0+0.0im  -0.0258819+0.0im   0.0965926+0.0im"
      ]
     },
     "execution_count": 150,
     "metadata": {},
     "output_type": "execute_result"
    }
   ],
   "source": [
    "hs_t(0)#[1:2,1:2]   "
   ]
  },
  {
   "cell_type": "code",
   "execution_count": 134,
   "id": "4bb2360f-ab78-4fd3-b09a-6cbddc3e34c7",
   "metadata": {},
   "outputs": [
    {
     "data": {
      "text/plain": [
       "0.6283185307179586"
      ]
     },
     "execution_count": 134,
     "metadata": {},
     "output_type": "execute_result"
    }
   ],
   "source": [
    "pi/5"
   ]
  },
  {
   "cell_type": "code",
   "execution_count": null,
   "id": "8e89160f-d999-4034-aeec-c5e36ab966a4",
   "metadata": {},
   "outputs": [],
   "source": [
    "#hs_t(13.5)\n",
    "#vm_i1x\n",
    "ts= 0.0:0.1:120\n",
    "function test_prec(t)\n",
    "    theta_1, phi_1 = 15.0 , 0.0#45.0, 0.0 \n",
    "    period = 10 \n",
    "    pr_spins = [PrecSpin(i) for i in 1:1:L  ]        ### array with mutables object of preccesin spins\n",
    "    for jj in 1: L\n",
    "        pr_spins[jj].i = jj ## lattice site \n",
    "        pr_spins[jj].theta_zero = theta_1\n",
    "        pr_spins[jj].axis_phi = phi_1\n",
    "        pr_spins[jj].T = period \n",
    "        #println(pr_spins[jj].i)\n",
    "    end\n",
    "\n",
    "    vm_i1x = zeros(Float64,nx*ny,3)\n",
    "    for j in 1:1:nx #3:1:5#n_precessing#length(pr_spins)\n",
    "        #println(j)\n",
    "        #dv.vm_i1x[2,:] .= zeros(Float64,3)\n",
    "        update!(pr_spins[j], t )\n",
    "        vm_i1x[pr_spins[j].i,:] .= pr_spins[j].s\n",
    "    end   \n",
    "    return vm_i1x\n",
    "end"
   ]
  },
  {
   "cell_type": "code",
   "execution_count": 171,
   "id": "8b91cee2-d63f-45ee-98d8-299124300738",
   "metadata": {},
   "outputs": [],
   "source": [
    "sx(t) = test_prec(t)[1,1]\n",
    "sy(t) = test_prec(t)[1,2]\n",
    "sz(t) = test_prec(t)[1,3]\n",
    "#plt.plot(ts,sx.(ts))\n",
    "sxx = sx.(ts)\n",
    "syy = sy.(ts)\n",
    "\n",
    "s2x(t) = test_prec(t)[2,1]\n",
    "s2y(t) = test_prec(t)[2,2]\n",
    "s2z(t) = test_prec(t)[2,3]\n",
    "#plt.plot(ts,sx.(ts))\n",
    "s2xx = s2x.(ts)\n",
    "s2yy = s2y.(ts);"
   ]
  },
  {
   "cell_type": "code",
   "execution_count": 177,
   "id": "4fd2c3db-f9f0-45ea-814a-05136a96aa5f",
   "metadata": {},
   "outputs": [
    {
     "data": {
      "text/plain": [
       "0.0012598804088289233"
      ]
     },
     "execution_count": 177,
     "metadata": {},
     "output_type": "execute_result"
    }
   ],
   "source": [
    "(sc[end,1]+sc[end,4])*0.6/(4pi)"
   ]
  },
  {
   "cell_type": "code",
   "execution_count": 172,
   "id": "d135a87b-7c0b-48b4-acff-1517b7a61efe",
   "metadata": {},
   "outputs": [
    {
     "data": {
      "text/plain": [
       "-0.00013177711266729728"
      ]
     },
     "execution_count": 172,
     "metadata": {},
     "output_type": "execute_result"
    }
   ],
   "source": [
    "\n",
    "torque = j_sd*(sxx[end]*sd[end,2] -  syy[end]*sd[end,1] + s2xx[end]*sd[end,5] - s2yy[end]*sd[end,4])"
   ]
  },
  {
   "cell_type": "code",
   "execution_count": 178,
   "id": "07c95cdd-959b-4aa2-a7cf-ffd3882382f3",
   "metadata": {},
   "outputs": [
    {
     "data": {
      "text/plain": [
       "0.25881904510252074"
      ]
     },
     "execution_count": 178,
     "metadata": {},
     "output_type": "execute_result"
    }
   ],
   "source": [
    "sxx[end]"
   ]
  },
  {
   "cell_type": "code",
   "execution_count": 184,
   "id": "54cae409-fffb-4012-9895-af169d5ac458",
   "metadata": {},
   "outputs": [
    {
     "data": {
      "image/png": "[encoded data removed]",
      "text/plain": [
       "Figure(PyObject <Figure size 640x480 with 1 Axes>)"
      ]
     },
     "metadata": {},
     "output_type": "display_data"
    },
    {
     "data": {
      "text/plain": [
       "1-element Vector{PyCall.PyObject}:\n",
       " PyObject <matplotlib.lines.Line2D object at 0x7fe72fec9b80>"
      ]
     },
     "execution_count": 184,
     "metadata": {},
     "output_type": "execute_result"
    }
   ],
   "source": [
    "plt.plot(sol.t,sd[:,2])\n",
    "plt.plot(ts, s2yy)"
   ]
  },
  {
   "cell_type": "code",
   "execution_count": 64,
   "id": "85a0a3eb-9351-46c2-ad70-422bc1fd8426",
   "metadata": {},
   "outputs": [],
   "source": [
    "# # Continuidad de carga: I_L + I_R + dQ_C/dt ≈ 0\n",
    "# Q = [cd1[t] + cd2[t] + cd3[t] + cd4[t] for t in eachindex(sol.t)]\n",
    "# dt = diff(sol.t)                      # puede ser no uniforme\n",
    "# dQ = [ (Q[k+1]-Q[k]) / dt[k] for k in 1:length(dt) ]\n",
    "# cont_err = ((Curr_left[2:end] .+ Curr_right[2:end])/(2pi) .+ dQ)  # ~ 0\n",
    "# @info \"max |continuidad| = $(maximum(abs.(cont_err)))\"\n",
    "\n",
    "# # Skew-Herm de G<(t,t'): max |G<(t,t') + G<†(t',t)|\n",
    "# function check_skewherm(G; tol=1e-8)\n",
    "#     nt = size(G,3)\n",
    "#     m = 0.0\n",
    "#     for t1 in 1:nt, t2 in 1:nt\n",
    "#         m = max(m, maximum(abs.(G[:,:,t1,t2] .+ adjoint(G[:,:,t2,t1]))))\n",
    "#     end\n",
    "#     @info \"max skew-Herm G<: $m\";  m < tol || @warn \"violación skew-Herm grande\"\n",
    "# end\n",
    "# # check_skewherm(data.GL)\n",
    "\n",
    "# dQ"
   ]
  },
  {
   "cell_type": "code",
   "execution_count": 65,
   "id": "e3030bed-44fc-4c5e-b3f6-50d291aa9227",
   "metadata": {},
   "outputs": [],
   "source": [
    "#(Curr_left[2:end] .+ Curr_right[2:end])/(2pi)"
   ]
  },
  {
   "cell_type": "code",
   "execution_count": 72,
   "id": "d7736499-94a2-40f3-8b17-142e2484f54b",
   "metadata": {},
   "outputs": [],
   "source": [
    "# using DelimitedFiles\n",
    "# ccL_f = open(\"./data/ccL_KBE_jl.txt\", \"w+\") \n",
    "# ccR_f = open(\"./data/ccR_KBE_jl.txt\", \"w+\") \n",
    "# writedlm(ccL_f, [sol.t*hbar 4pi*Curr_left], ' ' )\n",
    "# writedlm(ccR_f, [sol.t*hbar 4pi*Curr_right], ' ' )\n",
    "# close(ccL_f)\n",
    "# close(ccR_f)"
   ]
  },
  {
   "cell_type": "code",
   "execution_count": 73,
   "id": "70874c88-583e-4409-8df9-bce56a502726",
   "metadata": {},
   "outputs": [],
   "source": [
    "#sol.t*hbar\n",
    "#[sol.t*hbar  4pi*Curr_left]"
   ]
  },
  {
   "cell_type": "code",
   "execution_count": 74,
   "id": "750cb382-d90b-4223-a168-d73c350537bc",
   "metadata": {},
   "outputs": [],
   "source": [
    "#4pi*Curr_left[end]/0.05"
   ]
  },
  {
   "cell_type": "code",
   "execution_count": 75,
   "id": "dfb6b48b-478e-4362-a4f0-915112931f78",
   "metadata": {},
   "outputs": [],
   "source": [
    "#4pi*Curr_left[end]"
   ]
  },
  {
   "cell_type": "code",
   "execution_count": 76,
   "id": "a91baabe-26b0-4c2b-9f79-6674d9a6ea81",
   "metadata": {},
   "outputs": [],
   "source": [
    "#0.1/0.05\n",
    "#0.096742516300053/0.05"
   ]
  },
  {
   "cell_type": "code",
   "execution_count": 77,
   "id": "dad0a3bc-32b4-488e-87cd-a7f4d77002e0",
   "metadata": {},
   "outputs": [],
   "source": [
    "#plt.plot(sol.t, Curr_right)"
   ]
  },
  {
   "cell_type": "code",
   "execution_count": 78,
   "id": "bdab48b3-24a6-448c-9e65-b6e1584c0f8c",
   "metadata": {},
   "outputs": [],
   "source": [
    "#0.05/0.2"
   ]
  },
  {
   "cell_type": "markdown",
   "id": "950d327b-d8b4-4246-bcb2-29769ce67111",
   "metadata": {},
   "source": [
    "## Save data "
   ]
  },
  {
   "cell_type": "code",
   "execution_count": 130,
   "id": "6cede501-40a5-4882-aaca-65b844f66e49",
   "metadata": {},
   "outputs": [],
   "source": [
    "using DelimitedFiles\n",
    "path = \"/home/jalil2/Documents/KBA/data\"\n",
    "name = \"KBE_33\";"
   ]
  },
  {
   "cell_type": "markdown",
   "id": "a12b77ff-575a-459e-a7ec-a9bba55126a7",
   "metadata": {},
   "source": [
    "### Spin density "
   ]
  },
  {
   "cell_type": "code",
   "execution_count": 131,
   "id": "6b7115ca-87a4-4fb4-abb1-8d300d09bc88",
   "metadata": {},
   "outputs": [],
   "source": [
    "sd_f = open(\"$(path)/sd_$(name)_jl.txt\", \"w+\") \n",
    "#writedlm(ccL_f, [sol.t*hbar 4pi*Curr_left], ' ' )\n",
    "writedlm(sd_f, [sol.t sd], ' ' )\n",
    "#writedlm(ccR_f, [ts_cc -4*pi*cc_αt[1,:]], ' ' )\n",
    "#close(ccL_f)\n",
    "close(sd_f)"
   ]
  },
  {
   "cell_type": "markdown",
   "id": "aa98bf6a-66c1-4019-aeff-e37238f57d10",
   "metadata": {},
   "source": [
    "### Spin current"
   ]
  },
  {
   "cell_type": "code",
   "execution_count": 132,
   "id": "2b1f8903-0470-4b94-bffe-d1e115060aca",
   "metadata": {},
   "outputs": [],
   "source": [
    "sc_f = open(\"$(path)/sc_$(name)_jl.txt\", \"w+\") \n",
    "#writedlm(ccL_f, [sol.t*hbar 4pi*Curr_left], ' ' )\n",
    "writedlm(sc_f, [sol.t sc], ' ' )\n",
    "#writedlm(ccR_f, [ts_cc -4*pi*cc_αt[1,:]], ' ' )\n",
    "#close(ccL_f)\n",
    "close(sc_f)"
   ]
  },
  {
   "cell_type": "markdown",
   "id": "4fad062e-2ec0-42f2-baa4-5274687cda7f",
   "metadata": {},
   "source": [
    "### Charge current "
   ]
  },
  {
   "cell_type": "code",
   "execution_count": null,
   "id": "80438510-3da1-4434-bc5e-0110a55e8457",
   "metadata": {},
   "outputs": [],
   "source": []
  },
  {
   "cell_type": "code",
   "execution_count": 59,
   "id": "74e27ddc-913b-470f-be06-9deca14cf1ae",
   "metadata": {},
   "outputs": [],
   "source": [
    "#ccL_f = open(\"./data/ccL_GKBA_jl.txt\", \"w+\") \n",
    "cc_f = open(\"$(path)/cc_$(name)_jl.txt\", \"w+\") \n",
    "#writedlm(ccL_f, [sol.t*hbar 4pi*Curr_left], ' ' )\n",
    "writedlm(cc_f, [sol.t cc], ' ' )\n",
    "#writedlm(ccR_f, [ts_cc -4*pi*cc_αt[1,:]], ' ' )\n",
    "#close(ccL_f)\n",
    "close(cc_f)"
   ]
  },
  {
   "cell_type": "markdown",
   "id": "37246505-dde4-4a9c-81ce-16542c12ef8f",
   "metadata": {},
   "source": [
    "### Local density "
   ]
  },
  {
   "cell_type": "code",
   "execution_count": 60,
   "id": "5550c658-6f55-484d-a361-e9d265190af3",
   "metadata": {},
   "outputs": [],
   "source": [
    "cden_f = open(\"$(path)/cd_$(name)_jl.txt\", \"w+\") \n",
    "#writedlm(ccL_f, [sol.t*hbar 4pi*Curr_left], ' ' )\n",
    "writedlm(cden_f, [sol.t cd], ' ' )\n",
    "#close(ccL_f)\n",
    "close(cden_f)"
   ]
  },
  {
   "cell_type": "code",
   "execution_count": null,
   "id": "8884359b-f83e-439c-9b2d-b3a069748f0f",
   "metadata": {},
   "outputs": [],
   "source": []
  },
  {
   "cell_type": "code",
   "execution_count": null,
   "id": "998de7fa-bf45-484e-8f27-1bffc80dd23b",
   "metadata": {},
   "outputs": [],
   "source": []
  }
 ],
 "metadata": {
  "kernelspec": {
   "display_name": "Julia 1.10.9",
   "language": "julia",
   "name": "julia-1.10"
  },
  "language_info": {
   "file_extension": ".jl",
   "mimetype": "application/julia",
   "name": "julia",
   "version": "1.10.9"
  }
 },
 "nbformat": 4,
 "nbformat_minor": 5
}
